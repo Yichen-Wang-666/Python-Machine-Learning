{
 "cells": [
  {
   "cell_type": "code",
   "execution_count": 9,
   "id": "1171a369",
   "metadata": {},
   "outputs": [],
   "source": [
    "#import data\n",
    "import pandas as pd\n",
    "df = pd.read_excel(\"C:/YICHEN WANG/Course/2021 FALL/INSY662/individual project/kickstarter.xlsx\")\n",
    "pd.set_option(\"display.max_columns\", None)\n",
    "pd.set_option(\"display.max_rows\", None)\n",
    "\n",
    "#print(df.isnull().sum())\n",
    "#drop category, launch_to_state_change_days (too many missing values)"
   ]
  },
  {
   "cell_type": "markdown",
   "id": "89d0fb18",
   "metadata": {},
   "source": [
    "#question 1\n",
    "1. Develop a classification model (i.e., a supervised-learning model where the target variable is a categorical variable) to predict whether the variable “state” will take the value “successful” or “failure.” After you obtain the final model, explain the model and justify the predictors you include/exclude.\n",
    "The classification task is assumed to be done at the time each project is launched. In other words, at the moment the project owner submits the project, we execute the regression/classification model to predict whether the project is going to be successful or not."
   ]
  },
  {
   "cell_type": "code",
   "execution_count": 10,
   "id": "0bc63968",
   "metadata": {},
   "outputs": [],
   "source": [
    "#data cleaning\n",
    "df = df.drop(\"category\",axis=1)\n",
    "df = df.drop(\"launch_to_state_change_days\",axis=1)\n",
    "#remove certain rows with null values\n",
    "df = df.drop(df[df.name_len.isnull()].index)\n",
    "df = df.drop(df[df.name_len_clean.isnull()].index)\n",
    "df = df.drop(df[df.blurb_len.isnull()].index)\n",
    "df = df.drop(df[df.blurb_len_clean.isnull()].index)\n",
    "#drop project id and name as not useful for prediction\n",
    "df = df.drop(\"project_id\",axis=1)\n",
    "df = df.drop(\"name\",axis=1)\n",
    "#drop dates as they cannot be interpreted and they have their specific data later\n",
    "df = df.drop(\"deadline\",axis=1)\n",
    "df = df.drop(\"state_changed_at\",axis=1)\n",
    "df = df.drop(\"created_at\",axis=1)\n",
    "df = df.drop(\"launched_at\",axis=1)\n",
    "#drop similar columns\n",
    "df = df.drop(\"name_len\",axis=1)\n",
    "df = df.drop(\"blurb_len\",axis=1)\n",
    "#state check: to eliminate all the states that are not successful or failed\n",
    "df = df.drop(df[df[\"state\"]==\"live\"].index)\n",
    "df = df.drop(df[df[\"state\"]==\"canceled\"].index)\n",
    "df = df.drop(df[df[\"state\"]==\"suspended\"].index)\n",
    "\n",
    "#dummify predictors which are object\n",
    "df = pd.get_dummies(df,columns = [\"country\",\"currency\",\"deadline_weekday\",\"state_changed_at_weekday\",\n",
    "                                 \"created_at_weekday\",\"launched_at_weekday\"])\n",
    "#print(df.state.value_counts())\n",
    "#print(df.isnull().sum())"
   ]
  },
  {
   "cell_type": "markdown",
   "id": "e8b47e95",
   "metadata": {},
   "source": [
    "Check the correlation between state and each predictors: drop spotlight as it is perfectly correlated to state (successful/failed)"
   ]
  },
  {
   "cell_type": "code",
   "execution_count": 11,
   "id": "d8d207af",
   "metadata": {},
   "outputs": [],
   "source": [
    "# df.loc[df.state == 'failed', 'state'] = 0\n",
    "# df.loc[df.state == 'successful', 'state'] = 1\n",
    "\n",
    "# column to_numeric\n",
    "# df[\"state\"] = pd.to_numeric(df[\"state\"], downcast=\"integer\")\n",
    "# df.corr()"
   ]
  },
  {
   "cell_type": "code",
   "execution_count": 12,
   "id": "24ba7a83",
   "metadata": {},
   "outputs": [],
   "source": [
    "#spotlight and state is perfectly correlated, therefore drop spotlight\n",
    "df = df.drop(\"spotlight\",axis=1)\n",
    "#pledged and usd_pledged are highly correlated, drop one (pledged)\n",
    "df = df.drop(\"pledged\",axis=1)\n",
    "#drop all columns that cannot be used after immediate launch\n",
    "df = df.drop(\"staff_pick\",axis=1)\n",
    "df = df.drop(\"backers_count\",axis=1)\n",
    "df = df.drop(\"usd_pledged\",axis=1)\n",
    "df = df.drop(\"state_changed_at_month\",axis=1)\n",
    "df = df.drop(\"state_changed_at_day\",axis=1)\n",
    "df = df.drop(\"state_changed_at_yr\",axis=1)\n",
    "df = df.drop(\"state_changed_at_hr\",axis=1)"
   ]
  },
  {
   "cell_type": "code",
   "execution_count": 22,
   "id": "05a43852",
   "metadata": {},
   "outputs": [
    {
     "name": "stdout",
     "output_type": "stream",
     "text": [
      "                predictor  feature importance\n",
      "0                    goal            0.108026\n",
      "17  create_to_launch_days            0.068418\n",
      "3          name_len_clean            0.053990\n",
      "10         created_at_day            0.050391\n",
      "16         launched_at_hr            0.049613\n"
     ]
    }
   ],
   "source": [
    "#feature selection session 8\n",
    "X = df.drop(\"state\",axis =1)\n",
    "y = df['state']\n",
    "#use random forest to obtain feature importance\n",
    "\n",
    "from sklearn.ensemble import RandomForestClassifier\n",
    "rf = RandomForestClassifier(random_state = 0)\n",
    "model = rf.fit(X,y)\n",
    "model.feature_importances_\n",
    "importance = pd.DataFrame(list(zip(X.columns,model.feature_importances_)),columns=\n",
    "             ['predictor','feature importance'])\n",
    "print(importance.sort_values(by=['feature importance'],ascending = False).head(5))"
   ]
  },
  {
   "cell_type": "code",
   "execution_count": 19,
   "id": "a736762f",
   "metadata": {},
   "outputs": [],
   "source": [
    "#create a new dataframe based on the above findings\n",
    "X_new = df[['goal','create_to_launch_days','name_len_clean','created_at_day',\n",
    "           'launched_at_hr']]"
   ]
  },
  {
   "cell_type": "code",
   "execution_count": 20,
   "id": "965a7a97",
   "metadata": {},
   "outputs": [
    {
     "name": "stdout",
     "output_type": "stream",
     "text": [
      "Accuracy =  0.6814757581610972\n"
     ]
    }
   ],
   "source": [
    "# Split the data\n",
    "from sklearn.model_selection import train_test_split\n",
    "from sklearn.tree import DecisionTreeClassifier\n",
    "\n",
    "X_train, X_test, y_train, y_test = train_test_split(X_new, y, test_size = 0.33, random_state = 0)\n",
    "\n",
    "# Build the model\n",
    "decisiontree = DecisionTreeClassifier(max_depth=5)\n",
    "model = decisiontree.fit(X_train, y_train)\n",
    "\n",
    "# Using the model to predict the results based on the test dataset\n",
    "y_test_pred = model.predict(X_test)\n",
    "\n",
    "# Calculate the mean squared error of the prediction\n",
    "from sklearn.metrics import accuracy_score\n",
    "print(\"Accuracy = \",accuracy_score(y_test, y_test_pred))"
   ]
  },
  {
   "cell_type": "markdown",
   "id": "e7495a2d",
   "metadata": {},
   "source": [
    "For checking the model"
   ]
  },
  {
   "cell_type": "code",
   "execution_count": 21,
   "id": "3aa31a5a",
   "metadata": {},
   "outputs": [
    {
     "name": "stdout",
     "output_type": "stream",
     "text": [
      "Accuracy =  0.6929949964260186\n"
     ]
    }
   ],
   "source": [
    "## Grading ##\n",
    "\n",
    "# Import Grading Data\n",
    "df1 = pd.read_excel(\"C:/YICHEN WANG/Course/2021 FALL/INSY662/individual project/Kickstarter-Grading-Sample.xlsx\")\n",
    "# Pre-Process Grading Data\n",
    "\n",
    "#state check: to eliminate all the states that are not successful or failed\n",
    "df1 = df1.drop(df1[df1[\"state\"]==\"live\"].index)\n",
    "df1 = df1.drop(df1[df1[\"state\"]==\"canceled\"].index)\n",
    "df1 = df1.drop(df1[df1[\"state\"]==\"suspended\"].index)\n",
    "\n",
    "#dummify predictors which are object\n",
    "df1 = pd.get_dummies(df1,columns = [\"country\",\"currency\",\"deadline_weekday\",\"state_changed_at_weekday\",\n",
    "                                 \"created_at_weekday\",\"launched_at_weekday\"])\n",
    "# Setup the variables\n",
    "X_grading = df1[['goal','create_to_launch_days','name_len_clean','created_at_day',\n",
    "           'launched_at_hr']]\n",
    "y_grading = df1[\"state\"]\n",
    "\n",
    "# Apply the model previously trained to the grading data\n",
    "y_grading_pred = model.predict(X_grading)\n",
    "\n",
    "# Calculate the accuracy score\n",
    "print(\"Accuracy = \",accuracy_score(y_grading, y_grading_pred))"
   ]
  },
  {
   "cell_type": "markdown",
   "id": "775dea7e",
   "metadata": {},
   "source": [
    "2.Develop a clustering model (i.e., an unsupervised-learning model which can group observations together) to group projects together. After you obtain the final clusters, explain the characteristics that you observe in each cluster."
   ]
  },
  {
   "cell_type": "code",
   "execution_count": 48,
   "id": "2aed6ea4",
   "metadata": {},
   "outputs": [],
   "source": [
    "#import dataset\n",
    "df2 = pd.read_excel(\"C:/YICHEN WANG/Course/2021 FALL/INSY662/individual project/kickstarter.xlsx\")"
   ]
  },
  {
   "cell_type": "code",
   "execution_count": 49,
   "id": "8b69d13e",
   "metadata": {},
   "outputs": [],
   "source": [
    "#data cleaning (drop null values)\n",
    "df2 = df2.drop(\"category\",axis=1)\n",
    "df2 = df2.drop(\"launch_to_state_change_days\",axis=1)\n",
    "#remove certain rows with null values\n",
    "df2 = df2.drop(df2[df2.name_len.isnull()].index)\n",
    "df2 = df2.drop(df2[df2.name_len_clean.isnull()].index)\n",
    "df2 = df2.drop(df2[df2.blurb_len.isnull()].index)\n",
    "df2 = df2.drop(df2[df2.blurb_len_clean.isnull()].index)\n",
    "#drop name as project_id alone is enough\n",
    "df2 = df2.drop(\"name\",axis=1)\n",
    "df2 = df2.drop(\"project_id\",axis=1)\n",
    "#drop dates as they cannot be interpreted and they have their specific data later\n",
    "df2 = df2.drop(\"deadline\",axis=1)\n",
    "df2 = df2.drop(\"state_changed_at\",axis=1)\n",
    "df2 = df2.drop(\"created_at\",axis=1)\n",
    "df2 = df2.drop(\"launched_at\",axis=1)\n",
    "#drop similar columns\n",
    "df2 = df2.drop(\"name_len\",axis=1)\n",
    "df2 = df2.drop(\"blurb_len\",axis=1)\n",
    "df2 = df2.drop(\"usd_pledged\",axis=1)\n",
    "#state check: to eliminate all the states that are not successful or failed\n",
    "df2 = df2.drop(df2[df2[\"state\"]==\"live\"].index)\n",
    "df2 = df2.drop(df2[df2[\"state\"]==\"canceled\"].index)\n",
    "df2 = df2.drop(df2[df2[\"state\"]==\"suspended\"].index)\n",
    "\n",
    "#dummify predictors which are object\n",
    "df2 = pd.get_dummies(df2,columns = [\"country\",\"currency\",\"deadline_weekday\",\"state_changed_at_weekday\",\n",
    "                                 \"created_at_weekday\",\"launched_at_weekday\"])"
   ]
  },
  {
   "cell_type": "code",
   "execution_count": 50,
   "id": "9d321530",
   "metadata": {},
   "outputs": [
    {
     "name": "stdout",
     "output_type": "stream",
     "text": [
      "       predictor  feature importance\n",
      "6      spotlight            0.551995\n",
      "4  backers_count            0.151426\n",
      "1        pledged            0.120899\n",
      "0           goal            0.050762\n",
      "3     staff_pick            0.024853\n"
     ]
    }
   ],
   "source": [
    "#find features for clustering\n",
    "X_temp = df2.drop(\"state\",axis =1)\n",
    "y_temp = df2['state']\n",
    "#use random forest to obtain feature importance\n",
    "\n",
    "from sklearn.ensemble import RandomForestClassifier\n",
    "rf_temp = RandomForestClassifier(random_state = 0)\n",
    "model_temp = rf_temp.fit(X_temp,y_temp)\n",
    "model_temp.feature_importances_\n",
    "importance_temp = pd.DataFrame(list(zip(X_temp.columns,model_temp.feature_importances_)),columns=\n",
    "             ['predictor','feature importance'])\n",
    "print(importance_temp.sort_values(by=['feature importance'],ascending = False).head(5))"
   ]
  },
  {
   "cell_type": "code",
   "execution_count": 40,
   "id": "d6b674b3",
   "metadata": {},
   "outputs": [],
   "source": [
    "#standardize and draw clusters\n",
    "df2 = pd.get_dummies(df2,columns = [\"state\"])\n",
    "X1 = df2[['pledged','goal','staff_pick','state_successful','backers_count']]\n",
    "\n",
    "from sklearn.preprocessing import StandardScaler\n",
    "scaler = StandardScaler()\n",
    "X_std = scaler.fit_transform(X1)"
   ]
  },
  {
   "cell_type": "code",
   "execution_count": 41,
   "id": "ad483128",
   "metadata": {},
   "outputs": [
    {
     "data": {
      "text/plain": [
       "[<matplotlib.lines.Line2D at 0x244c23f90d0>]"
      ]
     },
     "execution_count": 41,
     "metadata": {},
     "output_type": "execute_result"
    },
    {
     "data": {
      "image/png": "[encoded data removed]",
      "text/plain": [
       "<Figure size 432x288 with 1 Axes>"
      ]
     },
     "metadata": {
      "needs_background": "light"
     },
     "output_type": "display_data"
    }
   ],
   "source": [
    "#determine the number of clusters required using the elbow method\n",
    "from sklearn.cluster import KMeans\n",
    "withiness = []\n",
    "ran = range(2,10,1)\n",
    "for i in range(2,10):\n",
    "    kmeans = KMeans(n_clusters = i)\n",
    "    model1 = kmeans.fit(X_std)\n",
    "    withiness.append(model1.inertia_)\n",
    "    \n",
    "from matplotlib import pyplot\n",
    "pyplot.plot(ran,withiness)"
   ]
  },
  {
   "cell_type": "code",
   "execution_count": 42,
   "id": "219e0364",
   "metadata": {},
   "outputs": [
    {
     "name": "stdout",
     "output_type": "stream",
     "text": [
      "The clustering provides good evidence of the reality: score = 0.8561957006968562\n"
     ]
    }
   ],
   "source": [
    "#according to the plot of elbow method, 5 clusters might be suitable\n",
    "kmeans1 = KMeans(n_clusters = 5,random_state=5)\n",
    "model2 = kmeans1.fit(X_std)\n",
    "labels = model2.predict(X_std)\n",
    "\n",
    "#use silhouette method to check clusters\n",
    "from sklearn.metrics import silhouette_samples\n",
    "silhouette_samples(X_std,labels)\n",
    "\n",
    "from sklearn.metrics import silhouette_score\n",
    "\n",
    "if silhouette_score(X_std,labels)>0.5:\n",
    "    print(\"The clustering provides good evidence of the reality: score =\",\n",
    "          silhouette_score(X_std,labels))\n",
    "else:\n",
    "    print(\"No, try again this clustering does not work\")"
   ]
  },
  {
   "cell_type": "code",
   "execution_count": 43,
   "id": "46c2552e",
   "metadata": {},
   "outputs": [
    {
     "name": "stdout",
     "output_type": "stream",
     "text": [
      "cluster 1 (kmeans): 1788\n",
      "cluster 2 (kmeans): 9918\n",
      "cluster 3 (kmeans): 65\n",
      "cluster 4 (kmeans): 3909\n",
      "cluster 5 (kmeans): 5\n"
     ]
    }
   ],
   "source": [
    "count = [0]*5\n",
    "for j in range(len(labels)):\n",
    "    if labels[j] == 0:\n",
    "        count[0]=count[0]+1\n",
    "    elif labels[j] == 1:\n",
    "        count[1]=count[1]+1\n",
    "    elif labels[j] == 2:\n",
    "        count[2]=count[2]+1\n",
    "    elif labels[j] == 3:\n",
    "        count[3]=count[3]+1\n",
    "    else:\n",
    "        count[4]=count[4]+1\n",
    "            \n",
    "print(\"cluster 1 (kmeans):\",count[0])\n",
    "print(\"cluster 2 (kmeans):\",count[1])\n",
    "print(\"cluster 3 (kmeans):\",count[2])\n",
    "print(\"cluster 4 (kmeans):\",count[3])\n",
    "print(\"cluster 5 (kmeans):\",count[4])"
   ]
  },
  {
   "cell_type": "code",
   "execution_count": 44,
   "id": "1fb879aa",
   "metadata": {},
   "outputs": [
    {
     "name": "stdout",
     "output_type": "stream",
     "text": [
      "------------------------------------------------------ \n",
      "\n",
      "cluster 1 center:\n",
      "pledged 1 : 0.38757070811727196\n",
      "goal 1 : -0.03410676564752351\n",
      "staff_pick 1 : 2.7430742829422456\n",
      "state_successful 1 : 0.9399480221514396\n",
      "backers_count 1 : 0.28563814488535794\n",
      "------------------------------------------------------ \n",
      "\n",
      "cluster 2 center:\n",
      "pledged 2 : -0.16468475042876568\n",
      "goal 2 : 0.0023512489242295824\n",
      "staff_pick 2 : -0.36455447313931577\n",
      "state_successful 2 : -0.7231620803833063\n",
      "backers_count 2 : -0.13863539155841245\n",
      "------------------------------------------------------ \n",
      "\n",
      "cluster 3 center:\n",
      "pledged 3 : 11.34415725159341\n",
      "goal 3 : 0.0672023362746623\n",
      "staff_pick 3 : 2.121548531725937\n",
      "state_successful 3 : 1.3828158681521978\n",
      "backers_count 3 : 9.296862267761941\n",
      "------------------------------------------------------ \n",
      "\n",
      "cluster 4 center:\n",
      "pledged 4 : 0.05216163589110466\n",
      "goal 4 : -0.05426208070973945\n",
      "staff_pick 4 : -0.3645544731393083\n",
      "state_successful 4 : 1.3828158681521938\n",
      "backers_count 4 : 0.06669822865514535\n",
      "------------------------------------------------------ \n",
      "\n",
      "cluster 5 center:\n",
      "pledged 5 : -0.18062548261767875\n",
      "goal 5 : 49.08110635675625\n",
      "staff_pick 5 : -0.36455447313930933\n",
      "state_successful 5 : -0.7231620803833126\n",
      "backers_count 5 : -0.15092255923345935\n"
     ]
    }
   ],
   "source": [
    "#cluster interpretation\n",
    "label_name = ['pledged','goal','staff_pick','state_successful','backers_count']\n",
    "print(\"------------------------------------------------------ \\n\")\n",
    "\n",
    "print(\"cluster 1 center:\")\n",
    "for i in range(len(label_name)): \n",
    "    print(label_name[i],\"1 :\",model2.cluster_centers_[0][i])\n",
    "print(\"------------------------------------------------------ \\n\")\n",
    "\n",
    "print(\"cluster 2 center:\")\n",
    "for i in range(len(label_name)): \n",
    "    print(label_name[i],\"2 :\",model2.cluster_centers_[1][i])\n",
    "print(\"------------------------------------------------------ \\n\")\n",
    "\n",
    "print(\"cluster 3 center:\")\n",
    "for i in range(len(label_name)): \n",
    "    print(label_name[i],\"3 :\",model2.cluster_centers_[2][i])\n",
    "print(\"------------------------------------------------------ \\n\")\n",
    "   \n",
    "print(\"cluster 4 center:\")\n",
    "for i in range(len(label_name)): \n",
    "    print(label_name[i],\"4 :\",model2.cluster_centers_[3][i])\n",
    "print(\"------------------------------------------------------ \\n\")\n",
    "\n",
    "print(\"cluster 5 center:\")\n",
    "for i in range(len(label_name)): \n",
    "    print(label_name[i],\"5 :\",model2.cluster_centers_[4][i])\n"
   ]
  },
  {
   "cell_type": "code",
   "execution_count": null,
   "id": "70d45472",
   "metadata": {},
   "outputs": [],
   "source": []
  }
 ],
 "metadata": {
  "kernelspec": {
   "display_name": "Python 3",
   "language": "python",
   "name": "python3"
  },
  "language_info": {
   "codemirror_mode": {
    "name": "ipython",
    "version": 3
   },
   "file_extension": ".py",
   "mimetype": "text/x-python",
   "name": "python",
   "nbconvert_exporter": "python",
   "pygments_lexer": "ipython3",
   "version": "3.8.8"
  }
 },
 "nbformat": 4,
 "nbformat_minor": 5
}
