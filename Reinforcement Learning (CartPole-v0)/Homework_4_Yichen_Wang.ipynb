{
  "nbformat": 4,
  "nbformat_minor": 0,
  "metadata": {
    "colab": {
      "name": "Homework 4 Yichen Wang.ipynb",
      "provenance": [],
      "collapsed_sections": []
    },
    "kernelspec": {
      "name": "python3",
      "display_name": "Python 3"
    }
  },
  "cells": [
    {
      "cell_type": "markdown",
      "metadata": {
        "id": "u497wtaKJg6U"
      },
      "source": [
        "# Homework Yichen Wang\n",
        "\n",
        "Create a Q-learning algo for the CartPole-v0 game\n",
        "- guess a good size for the table\n",
        "- use randomness (epsilon)"
      ]
    },
    {
      "cell_type": "code",
      "source": [
        "import gym\n",
        "import numpy as np\n",
        "import matplotlib.pyplot as plt"
      ],
      "metadata": {
        "id": "cOX5wQyI7llB"
      },
      "execution_count": 16,
      "outputs": []
    },
    {
      "cell_type": "code",
      "source": [
        "env = gym.make('CartPole-v0')"
      ],
      "metadata": {
        "id": "FzHEErlR7lxe"
      },
      "execution_count": 17,
      "outputs": []
    },
    {
      "cell_type": "code",
      "source": [
        "# How much new info will override old info. 0 means nothing is learned, 1 means only most recent is considered, old knowledge is discarded\n",
        "LEARNING_RATE = 0.1\n",
        "# Between 0 and 1, mesue of how much we carre about future reward over immedate reward\n",
        "DISCOUNT = 0.95\n",
        "RUNS = 10000  # Number of iterations run\n",
        "SHOW_EVERY = 2000  # How oftern the current solution is rendered\n",
        "UPDATE_EVERY = 100  # How oftern the current progress is recorded"
      ],
      "metadata": {
        "id": "L3ZWYWLq7l3u"
      },
      "execution_count": 18,
      "outputs": []
    },
    {
      "cell_type": "code",
      "source": [
        "# Exploration settings\n",
        "epsilon = 1  # not a constant, going to be decayed\n",
        "START_EPSILON_DECAYING = 1\n",
        "END_EPSILON_DECAYING = RUNS // 2\n",
        "epsilon_decay_value = epsilon / (END_EPSILON_DECAYING - START_EPSILON_DECAYING)"
      ],
      "metadata": {
        "id": "zq59dz_E7l9p"
      },
      "execution_count": 19,
      "outputs": []
    },
    {
      "cell_type": "code",
      "source": [
        "# Create bins and Q table\n",
        "def create_bins_and_q_table():\n",
        "\tnumBins = 20\n",
        "\tobsSpaceSize = len(env.observation_space.high)\n",
        "\n",
        "\t# Get the size of each bucket\n",
        "\tbins = [\n",
        "\t\tnp.linspace(-4.8, 4.8, numBins),\n",
        "\t\tnp.linspace(-4, 4, numBins),\n",
        "\t\tnp.linspace(-.418, .418, numBins),\n",
        "\t\tnp.linspace(-4, 4, numBins)\n",
        "\t]\n",
        "\n",
        "\tqTable = np.random.uniform(low=-2, high=0, size=([numBins] * obsSpaceSize + [env.action_space.n]))\n",
        "\n",
        "\treturn bins, obsSpaceSize, qTable"
      ],
      "metadata": {
        "id": "bSrFKYO17mEX"
      },
      "execution_count": 20,
      "outputs": []
    },
    {
      "cell_type": "code",
      "source": [
        "# Given a state of the enviroment, return its descreteState index in qTable\n",
        "def get_discrete_state(state, bins, obsSpaceSize):\n",
        "\tstateIndex = []\n",
        "\tfor i in range(obsSpaceSize):\n",
        "\t\tstateIndex.append(np.digitize(state[i], bins[i]) - 1) # -1 will turn bin into index\n",
        "\treturn tuple(stateIndex)"
      ],
      "metadata": {
        "id": "3KwnMD9-7mMX"
      },
      "execution_count": 21,
      "outputs": []
    },
    {
      "cell_type": "code",
      "source": [
        "bins, obsSpaceSize, qTable = create_bins_and_q_table()\n",
        "\n",
        "previousCnt = []  # array of all scores over runs\n",
        "metrics = {'ep': [], 'avg': [], 'min': [], 'max': []}  # metrics recorded for graph\n",
        "\n",
        "for run in range(RUNS):\n",
        "\tdiscreteState = get_discrete_state(env.reset(), bins, obsSpaceSize)\n",
        "\tdone = False  # has the enviroment finished?\n",
        "\tcnt = 0  # how may movements cart has made\n",
        "\n",
        "\twhile not done:\n",
        "\n",
        "\t\tcnt += 1\n",
        "\t\t# Get action from Q table\n",
        "\t\tif np.random.random() > epsilon:\n",
        "\t\t\taction = np.argmax(qTable[discreteState])\n",
        "\t\t# Get random action\n",
        "\t\telse:\n",
        "\t\t\taction = np.random.randint(0, env.action_space.n)\n",
        "\t\tnewState, reward, done, _ = env.step(action)  # perform action on enviroment\n",
        "\n",
        "\t\tnewDiscreteState = get_discrete_state(newState, bins, obsSpaceSize)\n",
        "\n",
        "\t\tmaxFutureQ = np.max(qTable[newDiscreteState])  # estimate of optiomal future value\n",
        "\t\tcurrentQ = qTable[discreteState + (action, )]  # old value\n",
        "\n",
        "\t\t# pole fell over / went out of bounds, negative reward\n",
        "\t\tif done and cnt < 200:\n",
        "\t\t\treward = -375\n",
        "\n",
        "\t\t# formula to caculate all Q values\n",
        "\t\tnewQ = (1 - LEARNING_RATE) * currentQ + LEARNING_RATE * (reward + DISCOUNT * maxFutureQ)\n",
        "\t\tqTable[discreteState + (action, )] = newQ  # Update qTable with new Q value\n",
        "\n",
        "\t\tdiscreteState = newDiscreteState\n",
        "\n",
        "\tpreviousCnt.append(cnt)\n",
        "\n",
        "\t# Decaying is being done every run if run number is within decaying range\n",
        "\tif END_EPSILON_DECAYING >= run >= START_EPSILON_DECAYING:\n",
        "\t\tepsilon -= epsilon_decay_value\n",
        "\n",
        "\t# Add new metrics for graph\n",
        "\tif run % UPDATE_EVERY == 0:\n",
        "\t\tlatestRuns = previousCnt[-UPDATE_EVERY:]\n",
        "\t\taverageCnt = sum(latestRuns) / len(latestRuns)\n",
        "\t\tmetrics['ep'].append(run)\n",
        "\t\tmetrics['avg'].append(averageCnt)\n",
        "\t\tmetrics['min'].append(min(latestRuns))\n",
        "\t\tmetrics['max'].append(max(latestRuns))\n",
        "\t\tprint(\"Run:\", run, \"Average:\", averageCnt, \"Min:\", min(latestRuns), \"Max:\", max(latestRuns))\n",
        "\n",
        "\n",
        "env.close()"
      ],
      "metadata": {
        "colab": {
          "base_uri": "https://localhost:8080/"
        },
        "id": "tC7gNrM07mRI",
        "outputId": "ab32ea90-e37e-4cc5-bf9c-2721bfd7d09c"
      },
      "execution_count": 22,
      "outputs": [
        {
          "output_type": "stream",
          "name": "stdout",
          "text": [
            "Run: 0 Average: 11.0 Min: 11 Max: 11\n",
            "Run: 100 Average: 21.82 Min: 9 Max: 63\n",
            "Run: 200 Average: 22.71 Min: 9 Max: 63\n",
            "Run: 300 Average: 25.29 Min: 9 Max: 70\n",
            "Run: 400 Average: 27.0 Min: 10 Max: 76\n",
            "Run: 500 Average: 24.87 Min: 9 Max: 68\n",
            "Run: 600 Average: 24.02 Min: 8 Max: 55\n",
            "Run: 700 Average: 30.18 Min: 8 Max: 119\n",
            "Run: 800 Average: 32.03 Min: 11 Max: 75\n",
            "Run: 900 Average: 33.34 Min: 10 Max: 125\n",
            "Run: 1000 Average: 33.3 Min: 10 Max: 122\n",
            "Run: 1100 Average: 36.35 Min: 10 Max: 106\n",
            "Run: 1200 Average: 40.16 Min: 10 Max: 118\n",
            "Run: 1300 Average: 43.1 Min: 9 Max: 133\n",
            "Run: 1400 Average: 46.48 Min: 10 Max: 117\n",
            "Run: 1500 Average: 48.58 Min: 12 Max: 141\n",
            "Run: 1600 Average: 50.99 Min: 11 Max: 198\n",
            "Run: 1700 Average: 56.13 Min: 11 Max: 188\n",
            "Run: 1800 Average: 48.94 Min: 10 Max: 163\n",
            "Run: 1900 Average: 57.12 Min: 9 Max: 190\n",
            "Run: 2000 Average: 56.39 Min: 12 Max: 141\n",
            "Run: 2100 Average: 65.9 Min: 13 Max: 175\n",
            "Run: 2200 Average: 73.16 Min: 10 Max: 200\n",
            "Run: 2300 Average: 74.11 Min: 10 Max: 174\n",
            "Run: 2400 Average: 74.85 Min: 11 Max: 200\n",
            "Run: 2500 Average: 78.95 Min: 14 Max: 200\n",
            "Run: 2600 Average: 97.09 Min: 10 Max: 200\n",
            "Run: 2700 Average: 90.47 Min: 14 Max: 200\n",
            "Run: 2800 Average: 104.01 Min: 15 Max: 200\n",
            "Run: 2900 Average: 111.36 Min: 16 Max: 200\n",
            "Run: 3000 Average: 109.71 Min: 29 Max: 200\n",
            "Run: 3100 Average: 122.4 Min: 22 Max: 200\n",
            "Run: 3200 Average: 129.61 Min: 18 Max: 200\n",
            "Run: 3300 Average: 124.71 Min: 14 Max: 200\n",
            "Run: 3400 Average: 129.34 Min: 14 Max: 200\n",
            "Run: 3500 Average: 141.09 Min: 17 Max: 200\n",
            "Run: 3600 Average: 141.67 Min: 49 Max: 200\n",
            "Run: 3700 Average: 155.66 Min: 10 Max: 200\n",
            "Run: 3800 Average: 153.7 Min: 17 Max: 200\n",
            "Run: 3900 Average: 157.69 Min: 34 Max: 200\n",
            "Run: 4000 Average: 156.7 Min: 51 Max: 200\n",
            "Run: 4100 Average: 151.17 Min: 63 Max: 200\n",
            "Run: 4200 Average: 156.39 Min: 80 Max: 200\n",
            "Run: 4300 Average: 161.55 Min: 79 Max: 200\n",
            "Run: 4400 Average: 167.93 Min: 18 Max: 200\n",
            "Run: 4500 Average: 160.48 Min: 9 Max: 200\n",
            "Run: 4600 Average: 149.44 Min: 105 Max: 200\n",
            "Run: 4700 Average: 162.76 Min: 115 Max: 200\n",
            "Run: 4800 Average: 154.47 Min: 119 Max: 200\n",
            "Run: 4900 Average: 180.39 Min: 116 Max: 200\n",
            "Run: 5000 Average: 176.27 Min: 127 Max: 200\n",
            "Run: 5100 Average: 156.39 Min: 124 Max: 200\n",
            "Run: 5200 Average: 161.83 Min: 120 Max: 200\n",
            "Run: 5300 Average: 181.59 Min: 120 Max: 200\n",
            "Run: 5400 Average: 176.56 Min: 128 Max: 200\n",
            "Run: 5500 Average: 189.49 Min: 141 Max: 200\n",
            "Run: 5600 Average: 190.44 Min: 136 Max: 200\n",
            "Run: 5700 Average: 192.01 Min: 141 Max: 200\n",
            "Run: 5800 Average: 193.61 Min: 149 Max: 200\n",
            "Run: 5900 Average: 195.19 Min: 160 Max: 200\n",
            "Run: 6000 Average: 194.42 Min: 158 Max: 200\n",
            "Run: 6100 Average: 193.35 Min: 162 Max: 200\n",
            "Run: 6200 Average: 195.46 Min: 170 Max: 200\n",
            "Run: 6300 Average: 195.4 Min: 164 Max: 200\n",
            "Run: 6400 Average: 194.85 Min: 150 Max: 200\n",
            "Run: 6500 Average: 196.12 Min: 164 Max: 200\n",
            "Run: 6600 Average: 194.6 Min: 168 Max: 200\n",
            "Run: 6700 Average: 194.48 Min: 162 Max: 200\n",
            "Run: 6800 Average: 194.64 Min: 141 Max: 200\n",
            "Run: 6900 Average: 196.13 Min: 160 Max: 200\n",
            "Run: 7000 Average: 195.21 Min: 144 Max: 200\n",
            "Run: 7100 Average: 194.08 Min: 149 Max: 200\n",
            "Run: 7200 Average: 191.13 Min: 160 Max: 200\n",
            "Run: 7300 Average: 192.71 Min: 142 Max: 200\n",
            "Run: 7400 Average: 194.88 Min: 149 Max: 200\n",
            "Run: 7500 Average: 195.2 Min: 162 Max: 200\n",
            "Run: 7600 Average: 196.55 Min: 170 Max: 200\n",
            "Run: 7700 Average: 194.82 Min: 167 Max: 200\n",
            "Run: 7800 Average: 194.67 Min: 156 Max: 200\n",
            "Run: 7900 Average: 190.02 Min: 155 Max: 200\n",
            "Run: 8000 Average: 187.24 Min: 157 Max: 200\n",
            "Run: 8100 Average: 191.52 Min: 162 Max: 200\n",
            "Run: 8200 Average: 195.73 Min: 165 Max: 200\n",
            "Run: 8300 Average: 195.47 Min: 165 Max: 200\n",
            "Run: 8400 Average: 197.59 Min: 141 Max: 200\n",
            "Run: 8500 Average: 197.12 Min: 161 Max: 200\n",
            "Run: 8600 Average: 197.45 Min: 148 Max: 200\n",
            "Run: 8700 Average: 197.03 Min: 153 Max: 200\n",
            "Run: 8800 Average: 197.38 Min: 158 Max: 200\n",
            "Run: 8900 Average: 198.39 Min: 171 Max: 200\n",
            "Run: 9000 Average: 196.35 Min: 165 Max: 200\n",
            "Run: 9100 Average: 196.05 Min: 165 Max: 200\n",
            "Run: 9200 Average: 197.12 Min: 150 Max: 200\n",
            "Run: 9300 Average: 197.27 Min: 163 Max: 200\n",
            "Run: 9400 Average: 197.11 Min: 156 Max: 200\n",
            "Run: 9500 Average: 196.12 Min: 159 Max: 200\n",
            "Run: 9600 Average: 198.34 Min: 174 Max: 200\n",
            "Run: 9700 Average: 197.95 Min: 149 Max: 200\n",
            "Run: 9800 Average: 196.9 Min: 163 Max: 200\n",
            "Run: 9900 Average: 197.57 Min: 162 Max: 200\n"
          ]
        }
      ]
    },
    {
      "cell_type": "code",
      "source": [
        "# Plot graph\n",
        "plt.plot(metrics['ep'], metrics['avg'], label=\"average rewards\")\n",
        "plt.plot(metrics['ep'], metrics['min'], label=\"min rewards\")\n",
        "plt.plot(metrics['ep'], metrics['max'], label=\"max rewards\")\n",
        "plt.legend(loc=4)\n",
        "plt.show()"
      ],
      "metadata": {
        "colab": {
          "base_uri": "https://localhost:8080/",
          "height": 265
        },
        "id": "fFx3-5kN7mUA",
        "outputId": "3559d334-bba9-4872-be8a-209809cf69ca"
      },
      "execution_count": 23,
      "outputs": [
        {
          "output_type": "display_data",
          "data": {
            "text/plain": [
              "<Figure size 432x288 with 1 Axes>"
            ],
            "image/png": "[encoded data removed]"
          },
          "metadata": {
            "needs_background": "light"
          }
        }
      ]
    }
  ]
}