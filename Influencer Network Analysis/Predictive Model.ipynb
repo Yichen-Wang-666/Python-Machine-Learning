{
 "cells": [
  {
   "cell_type": "markdown",
   "id": "24efa05d",
   "metadata": {},
   "source": [
    "# INSY 670 Group Project 1"
   ]
  },
  {
   "cell_type": "markdown",
   "id": "eed59bc7",
   "metadata": {},
   "source": [
    "## 1. Predictive Model"
   ]
  },
  {
   "cell_type": "markdown",
   "id": "eddb512a",
   "metadata": {},
   "source": [
    "## 1.1 Environment Setup"
   ]
  },
  {
   "cell_type": "code",
   "execution_count": 1,
   "id": "efcfbf13",
   "metadata": {},
   "outputs": [],
   "source": [
    "import numpy as np\n",
    "import pandas as pd\n",
    "from sklearn.linear_model import LogisticRegression\n",
    "from sklearn.ensemble import RandomForestClassifier, GradientBoostingClassifier\n",
    "from sklearn.metrics import accuracy_score, confusion_matrix\n",
    "from sklearn.model_selection import cross_val_score, train_test_split\n",
    "from sklearn.preprocessing import StandardScaler"
   ]
  },
  {
   "cell_type": "markdown",
   "id": "7f681510",
   "metadata": {},
   "source": [
    "## 1.2 Data Pre-processing"
   ]
  },
  {
   "cell_type": "code",
   "execution_count": 2,
   "id": "1259b3b8",
   "metadata": {},
   "outputs": [],
   "source": [
    "train = pd.read_csv('train.csv')"
   ]
  },
  {
   "cell_type": "code",
   "execution_count": 3,
   "id": "e665055c",
   "metadata": {},
   "outputs": [
    {
     "name": "stdout",
     "output_type": "stream",
     "text": [
      "<class 'pandas.core.frame.DataFrame'>\n",
      "RangeIndex: 5500 entries, 0 to 5499\n",
      "Data columns (total 23 columns):\n",
      " #   Column               Non-Null Count  Dtype  \n",
      "---  ------               --------------  -----  \n",
      " 0   Choice               5500 non-null   int64  \n",
      " 1   A_follower_count     5500 non-null   int64  \n",
      " 2   A_following_count    5500 non-null   int64  \n",
      " 3   A_listed_count       5500 non-null   int64  \n",
      " 4   A_mentions_received  5500 non-null   float64\n",
      " 5   A_retweets_received  5500 non-null   float64\n",
      " 6   A_mentions_sent      5500 non-null   float64\n",
      " 7   A_retweets_sent      5500 non-null   float64\n",
      " 8   A_posts              5500 non-null   float64\n",
      " 9   A_network_feature_1  5500 non-null   int64  \n",
      " 10  A_network_feature_2  5500 non-null   float64\n",
      " 11  A_network_feature_3  5500 non-null   float64\n",
      " 12  B_follower_count     5500 non-null   int64  \n",
      " 13  B_following_count    5500 non-null   int64  \n",
      " 14  B_listed_count       5500 non-null   int64  \n",
      " 15  B_mentions_received  5500 non-null   float64\n",
      " 16  B_retweets_received  5500 non-null   float64\n",
      " 17  B_mentions_sent      5500 non-null   float64\n",
      " 18  B_retweets_sent      5500 non-null   float64\n",
      " 19  B_posts              5500 non-null   float64\n",
      " 20  B_network_feature_1  5500 non-null   int64  \n",
      " 21  B_network_feature_2  5500 non-null   float64\n",
      " 22  B_network_feature_3  5500 non-null   float64\n",
      "dtypes: float64(14), int64(9)\n",
      "memory usage: 988.4 KB\n"
     ]
    }
   ],
   "source": [
    "train.info()"
   ]
  },
  {
   "cell_type": "code",
   "execution_count": 4,
   "id": "34533e54",
   "metadata": {},
   "outputs": [],
   "source": [
    "df = pd.DataFrame(columns = [\"A_B_follower_count\",\"A_B_following_count\",\"A_B_listed_count\",\"A_B_mentions_received\",\n",
    "                \"A_B_retweets_received\",\"A_B_mentions_sent\",\"A_B_retweets_sent\",\"A_B_posts\",\"A_B_network_feature_1\",\n",
    "                \"A_B_network_feature_2\",\"A_B_network_feature_3\"])"
   ]
  },
  {
   "cell_type": "code",
   "execution_count": 5,
   "id": "4a4b5016",
   "metadata": {},
   "outputs": [],
   "source": [
    "for i in range(11):\n",
    "    series = train.iloc[:,i+1]-train.iloc[:,i+1+11]\n",
    "    df.iloc[:,i] = series\n",
    "df['Choice'] = train['Choice']"
   ]
  },
  {
   "cell_type": "code",
   "execution_count": 6,
   "id": "a70fc671",
   "metadata": {},
   "outputs": [
    {
     "data": {
      "text/html": [
       "<div>\n",
       "<style scoped>\n",
       "    .dataframe tbody tr th:only-of-type {\n",
       "        vertical-align: middle;\n",
       "    }\n",
       "\n",
       "    .dataframe tbody tr th {\n",
       "        vertical-align: top;\n",
       "    }\n",
       "\n",
       "    .dataframe thead th {\n",
       "        text-align: right;\n",
       "    }\n",
       "</style>\n",
       "<table border=\"1\" class=\"dataframe\">\n",
       "  <thead>\n",
       "    <tr style=\"text-align: right;\">\n",
       "      <th></th>\n",
       "      <th>A_B_follower_count</th>\n",
       "      <th>A_B_following_count</th>\n",
       "      <th>A_B_listed_count</th>\n",
       "      <th>A_B_mentions_received</th>\n",
       "      <th>A_B_retweets_received</th>\n",
       "      <th>A_B_mentions_sent</th>\n",
       "      <th>A_B_retweets_sent</th>\n",
       "      <th>A_B_posts</th>\n",
       "      <th>A_B_network_feature_1</th>\n",
       "      <th>A_B_network_feature_2</th>\n",
       "      <th>A_B_network_feature_3</th>\n",
       "      <th>Choice</th>\n",
       "    </tr>\n",
       "  </thead>\n",
       "  <tbody>\n",
       "    <tr>\n",
       "      <th>0</th>\n",
       "      <td>-34235</td>\n",
       "      <td>-29506</td>\n",
       "      <td>-1686</td>\n",
       "      <td>-14.846518</td>\n",
       "      <td>-3.883525</td>\n",
       "      <td>-8.103828</td>\n",
       "      <td>-0.231920</td>\n",
       "      <td>-6.626665</td>\n",
       "      <td>-64</td>\n",
       "      <td>90.969697</td>\n",
       "      <td>9438.106061</td>\n",
       "      <td>0</td>\n",
       "    </tr>\n",
       "    <tr>\n",
       "      <th>1</th>\n",
       "      <td>-17671</td>\n",
       "      <td>331</td>\n",
       "      <td>-1382</td>\n",
       "      <td>49.961485</td>\n",
       "      <td>16.854685</td>\n",
       "      <td>2.481652</td>\n",
       "      <td>0.546816</td>\n",
       "      <td>4.106299</td>\n",
       "      <td>206</td>\n",
       "      <td>-113.587704</td>\n",
       "      <td>-1601.149290</td>\n",
       "      <td>0</td>\n",
       "    </tr>\n",
       "    <tr>\n",
       "      <th>2</th>\n",
       "      <td>3688</td>\n",
       "      <td>733</td>\n",
       "      <td>-105</td>\n",
       "      <td>24.768949</td>\n",
       "      <td>9.201969</td>\n",
       "      <td>4.758317</td>\n",
       "      <td>0.490702</td>\n",
       "      <td>2.986516</td>\n",
       "      <td>92</td>\n",
       "      <td>58.594502</td>\n",
       "      <td>5722.563574</td>\n",
       "      <td>0</td>\n",
       "    </tr>\n",
       "    <tr>\n",
       "      <th>3</th>\n",
       "      <td>-19542</td>\n",
       "      <td>-17630</td>\n",
       "      <td>-276</td>\n",
       "      <td>-565.184032</td>\n",
       "      <td>-390.016375</td>\n",
       "      <td>-26.220532</td>\n",
       "      <td>-7.067053</td>\n",
       "      <td>-29.271279</td>\n",
       "      <td>-1756</td>\n",
       "      <td>-21.469296</td>\n",
       "      <td>-1299.678967</td>\n",
       "      <td>0</td>\n",
       "    </tr>\n",
       "    <tr>\n",
       "      <th>4</th>\n",
       "      <td>38035</td>\n",
       "      <td>-849</td>\n",
       "      <td>2460</td>\n",
       "      <td>127.252413</td>\n",
       "      <td>33.417223</td>\n",
       "      <td>21.117111</td>\n",
       "      <td>2.213765</td>\n",
       "      <td>19.298035</td>\n",
       "      <td>466</td>\n",
       "      <td>78.904293</td>\n",
       "      <td>840.220036</td>\n",
       "      <td>1</td>\n",
       "    </tr>\n",
       "    <tr>\n",
       "      <th>...</th>\n",
       "      <td>...</td>\n",
       "      <td>...</td>\n",
       "      <td>...</td>\n",
       "      <td>...</td>\n",
       "      <td>...</td>\n",
       "      <td>...</td>\n",
       "      <td>...</td>\n",
       "      <td>...</td>\n",
       "      <td>...</td>\n",
       "      <td>...</td>\n",
       "      <td>...</td>\n",
       "      <td>...</td>\n",
       "    </tr>\n",
       "    <tr>\n",
       "      <th>5495</th>\n",
       "      <td>-762629</td>\n",
       "      <td>-1185</td>\n",
       "      <td>-13787</td>\n",
       "      <td>-5351.839938</td>\n",
       "      <td>-4730.783795</td>\n",
       "      <td>54.126383</td>\n",
       "      <td>3.006633</td>\n",
       "      <td>86.017644</td>\n",
       "      <td>-20651</td>\n",
       "      <td>28.807054</td>\n",
       "      <td>2171.964468</td>\n",
       "      <td>0</td>\n",
       "    </tr>\n",
       "    <tr>\n",
       "      <th>5496</th>\n",
       "      <td>-682</td>\n",
       "      <td>-236</td>\n",
       "      <td>-3</td>\n",
       "      <td>1.139100</td>\n",
       "      <td>-0.205570</td>\n",
       "      <td>0.000000</td>\n",
       "      <td>0.000000</td>\n",
       "      <td>-1.018804</td>\n",
       "      <td>4</td>\n",
       "      <td>47.600000</td>\n",
       "      <td>-3554.800000</td>\n",
       "      <td>1</td>\n",
       "    </tr>\n",
       "    <tr>\n",
       "      <th>5497</th>\n",
       "      <td>7831</td>\n",
       "      <td>-1038</td>\n",
       "      <td>566</td>\n",
       "      <td>34.391680</td>\n",
       "      <td>18.740284</td>\n",
       "      <td>0.181576</td>\n",
       "      <td>-0.777790</td>\n",
       "      <td>1.940731</td>\n",
       "      <td>117</td>\n",
       "      <td>103.995098</td>\n",
       "      <td>1292.989740</td>\n",
       "      <td>0</td>\n",
       "    </tr>\n",
       "    <tr>\n",
       "      <th>5498</th>\n",
       "      <td>-57424</td>\n",
       "      <td>-37392</td>\n",
       "      <td>-21681</td>\n",
       "      <td>455.382230</td>\n",
       "      <td>415.318328</td>\n",
       "      <td>-1.388242</td>\n",
       "      <td>-1.244570</td>\n",
       "      <td>3.138261</td>\n",
       "      <td>1907</td>\n",
       "      <td>-230.511754</td>\n",
       "      <td>-6661.772353</td>\n",
       "      <td>0</td>\n",
       "    </tr>\n",
       "    <tr>\n",
       "      <th>5499</th>\n",
       "      <td>-503376</td>\n",
       "      <td>-2188</td>\n",
       "      <td>-12766</td>\n",
       "      <td>-307.856462</td>\n",
       "      <td>-142.014639</td>\n",
       "      <td>0.283840</td>\n",
       "      <td>-0.179272</td>\n",
       "      <td>-1.853586</td>\n",
       "      <td>-1272</td>\n",
       "      <td>162.092181</td>\n",
       "      <td>12473.010425</td>\n",
       "      <td>0</td>\n",
       "    </tr>\n",
       "  </tbody>\n",
       "</table>\n",
       "<p>5500 rows × 12 columns</p>\n",
       "</div>"
      ],
      "text/plain": [
       "      A_B_follower_count  A_B_following_count  A_B_listed_count  \\\n",
       "0                 -34235               -29506             -1686   \n",
       "1                 -17671                  331             -1382   \n",
       "2                   3688                  733              -105   \n",
       "3                 -19542               -17630              -276   \n",
       "4                  38035                 -849              2460   \n",
       "...                  ...                  ...               ...   \n",
       "5495             -762629                -1185            -13787   \n",
       "5496                -682                 -236                -3   \n",
       "5497                7831                -1038               566   \n",
       "5498              -57424               -37392            -21681   \n",
       "5499             -503376                -2188            -12766   \n",
       "\n",
       "      A_B_mentions_received  A_B_retweets_received  A_B_mentions_sent  \\\n",
       "0                -14.846518              -3.883525          -8.103828   \n",
       "1                 49.961485              16.854685           2.481652   \n",
       "2                 24.768949               9.201969           4.758317   \n",
       "3               -565.184032            -390.016375         -26.220532   \n",
       "4                127.252413              33.417223          21.117111   \n",
       "...                     ...                    ...                ...   \n",
       "5495           -5351.839938           -4730.783795          54.126383   \n",
       "5496               1.139100              -0.205570           0.000000   \n",
       "5497              34.391680              18.740284           0.181576   \n",
       "5498             455.382230             415.318328          -1.388242   \n",
       "5499            -307.856462            -142.014639           0.283840   \n",
       "\n",
       "      A_B_retweets_sent  A_B_posts  A_B_network_feature_1  \\\n",
       "0             -0.231920  -6.626665                    -64   \n",
       "1              0.546816   4.106299                    206   \n",
       "2              0.490702   2.986516                     92   \n",
       "3             -7.067053 -29.271279                  -1756   \n",
       "4              2.213765  19.298035                    466   \n",
       "...                 ...        ...                    ...   \n",
       "5495           3.006633  86.017644                 -20651   \n",
       "5496           0.000000  -1.018804                      4   \n",
       "5497          -0.777790   1.940731                    117   \n",
       "5498          -1.244570   3.138261                   1907   \n",
       "5499          -0.179272  -1.853586                  -1272   \n",
       "\n",
       "      A_B_network_feature_2  A_B_network_feature_3  Choice  \n",
       "0                 90.969697            9438.106061       0  \n",
       "1               -113.587704           -1601.149290       0  \n",
       "2                 58.594502            5722.563574       0  \n",
       "3                -21.469296           -1299.678967       0  \n",
       "4                 78.904293             840.220036       1  \n",
       "...                     ...                    ...     ...  \n",
       "5495              28.807054            2171.964468       0  \n",
       "5496              47.600000           -3554.800000       1  \n",
       "5497             103.995098            1292.989740       0  \n",
       "5498            -230.511754           -6661.772353       0  \n",
       "5499             162.092181           12473.010425       0  \n",
       "\n",
       "[5500 rows x 12 columns]"
      ]
     },
     "execution_count": 6,
     "metadata": {},
     "output_type": "execute_result"
    }
   ],
   "source": [
    "df"
   ]
  },
  {
   "cell_type": "markdown",
   "id": "2f21c871",
   "metadata": {},
   "source": [
    "## 1.3 Features Selection"
   ]
  },
  {
   "cell_type": "code",
   "execution_count": 7,
   "id": "c68ee523",
   "metadata": {},
   "outputs": [],
   "source": [
    "X = df.iloc[:,:10]\n",
    "y = df['Choice']"
   ]
  },
  {
   "cell_type": "code",
   "execution_count": 8,
   "id": "91495635",
   "metadata": {},
   "outputs": [],
   "source": [
    "scaler = StandardScaler()\n",
    "X_std = scaler.fit_transform(X)"
   ]
  },
  {
   "cell_type": "code",
   "execution_count": 9,
   "id": "f57ba579",
   "metadata": {},
   "outputs": [
    {
     "name": "stdout",
     "output_type": "stream",
     "text": [
      "               predictor  feature importance\n",
      "2       A_B_listed_count            0.172667\n",
      "0     A_B_follower_count            0.149952\n",
      "8  A_B_network_feature_1            0.126989\n",
      "4  A_B_retweets_received            0.105559\n",
      "3  A_B_mentions_received            0.097317\n"
     ]
    }
   ],
   "source": [
    "randomforest = RandomForestClassifier(random_state=42)\n",
    "model = randomforest.fit(X_std,y)\n",
    "importance = pd.DataFrame(list(zip(X.columns,model.feature_importances_)),columns=\n",
    "             ['predictor','feature importance'])\n",
    "print(importance.sort_values(by=['feature importance'],ascending = False).head(5))"
   ]
  },
  {
   "cell_type": "code",
   "execution_count": 10,
   "id": "4c81ff13",
   "metadata": {},
   "outputs": [],
   "source": [
    "df2 = df[['A_B_listed_count','A_B_follower_count','A_B_network_feature_1','A_B_retweets_received','A_B_mentions_received']]"
   ]
  },
  {
   "cell_type": "markdown",
   "id": "feb4461b",
   "metadata": {},
   "source": [
    "## 1.4 Binary Classification"
   ]
  },
  {
   "cell_type": "markdown",
   "id": "a841bbe4",
   "metadata": {},
   "source": [
    "### 1.4.1 Train Test Split"
   ]
  },
  {
   "cell_type": "code",
   "execution_count": 11,
   "id": "2d6ac753",
   "metadata": {},
   "outputs": [],
   "source": [
    "X_train, X_test, y_train, y_test = train_test_split(X_std,y,test_size=0.33,random_state=5)"
   ]
  },
  {
   "cell_type": "markdown",
   "id": "4e08cab7",
   "metadata": {},
   "source": [
    "### 1.4.2 Logistic Regression"
   ]
  },
  {
   "cell_type": "code",
   "execution_count": 12,
   "id": "44b33e28",
   "metadata": {},
   "outputs": [
    {
     "name": "stdout",
     "output_type": "stream",
     "text": [
      "Logistic Regression Accuracy Score: 0.7371900826446282\n",
      "Logistic Regression Confusion Matrix:\n",
      "        pred:0  pred:1\n",
      "true:0     631     255\n",
      "true:1     222     707\n"
     ]
    }
   ],
   "source": [
    "# Run the Model\n",
    "lr = LogisticRegression()\n",
    "model_lr = lr.fit(X_std,y)\n",
    "\n",
    "# Calculate the accuracy score\n",
    "y_test_pred = model_lr.predict(X_test)\n",
    "print('Logistic Regression Accuracy Score:',accuracy_score(y_test,y_test_pred))\n",
    "\n",
    "# Confusion Matrix\n",
    "print('Logistic Regression Confusion Matrix:')\n",
    "print(pd.DataFrame(confusion_matrix(y_test,y_test_pred,labels=[0,1]),index=['true:0','true:1'],columns=['pred:0','pred:1']))"
   ]
  },
  {
   "cell_type": "markdown",
   "id": "6a1ec958",
   "metadata": {},
   "source": [
    "### 1.4.3 Random Forest"
   ]
  },
  {
   "cell_type": "code",
   "execution_count": 13,
   "id": "bbf266e4",
   "metadata": {},
   "outputs": [
    {
     "name": "stdout",
     "output_type": "stream",
     "text": [
      "Random Forest Accuracy Score: 0.7608815426997245\n",
      "Random Forest Confusion Matrix:\n",
      "        pred:0  pred:1\n",
      "true:0     663     223\n",
      "true:1     211     718\n"
     ]
    }
   ],
   "source": [
    "# Run the Model\n",
    "randomforest = RandomForestClassifier(random_state=42)\n",
    "model_rf = randomforest.fit(X_train,y_train)\n",
    "\n",
    "# Calculate the accuracy score\n",
    "y_test_pred = model_rf.predict(X_test)\n",
    "print('Random Forest Accuracy Score:',accuracy_score(y_test,y_test_pred))\n",
    "\n",
    "# Confusion Matrix\n",
    "print('Random Forest Confusion Matrix:')\n",
    "print(pd.DataFrame(confusion_matrix(y_test,y_test_pred,labels=[0,1]),index=['true:0','true:1'],columns=['pred:0','pred:1']))"
   ]
  },
  {
   "cell_type": "markdown",
   "id": "514a8a05",
   "metadata": {},
   "source": [
    "### 1.4.4 Gradient Boosting"
   ]
  },
  {
   "cell_type": "code",
   "execution_count": 14,
   "id": "536c928e",
   "metadata": {},
   "outputs": [
    {
     "name": "stdout",
     "output_type": "stream",
     "text": [
      "Gradient Boosting Accuracy Score: 0.7768595041322314\n",
      "Gradient Boosting Confusion Matrix:\n",
      "        pred:0  pred:1\n",
      "true:0     679     207\n",
      "true:1     198     731\n"
     ]
    }
   ],
   "source": [
    "# Run the Model\n",
    "gbt = GradientBoostingClassifier(random_state=42)\n",
    "model_gbt = gbt.fit(X_train,y_train)\n",
    "\n",
    "# Calculate the accuracy score\n",
    "y_test_pred = model_gbt.predict(X_test)\n",
    "print('Gradient Boosting Accuracy Score:',accuracy_score(y_test,y_test_pred))\n",
    "\n",
    "# Confusion Matrix\n",
    "print('Gradient Boosting Confusion Matrix:')\n",
    "print(pd.DataFrame(confusion_matrix(y_test,y_test_pred,labels=[0,1]),index=['true:0','true:1'],columns=['pred:0','pred:1']))"
   ]
  },
  {
   "cell_type": "markdown",
   "id": "05547924",
   "metadata": {},
   "source": [
    "According to accuracy score, we see that gradient boosting has the best performance."
   ]
  },
  {
   "cell_type": "markdown",
   "id": "fedbbd5b",
   "metadata": {},
   "source": [
    "## 1.5 Results Analysis"
   ]
  },
  {
   "cell_type": "markdown",
   "id": "f471a332",
   "metadata": {},
   "source": [
    "**1. Which factors are best predictors of influence?**<br>\n",
    "According to the result of Random Forest's feature importance, we selected the top 5 factors: difference between A and B in 'listed_count','follower_count','network_feature_1','retweets_received' and 'mentions_received'.<br><br>\n",
    "\n",
    "**2. Are there any surprises here?** <br>\n",
    "We are not surprised by the result, because the more influential a person is on social media, the more interactive they become (mentions_received, retweets_received), the more popularity they gain (listed_count, follower_count).<br><br>\n",
    "\n",
    "**3. How can a business use your model/results?** <br>\n",
    "WIth our model, companies are able to find the most interactive and popular influencers among all users in Twitter to promote their products."
   ]
  }
 ],
 "metadata": {
  "kernelspec": {
   "display_name": "Python 3 (ipykernel)",
   "language": "python",
   "name": "python3"
  },
  "language_info": {
   "codemirror_mode": {
    "name": "ipython",
    "version": 3
   },
   "file_extension": ".py",
   "mimetype": "text/x-python",
   "name": "python",
   "nbconvert_exporter": "python",
   "pygments_lexer": "ipython3",
   "version": "3.9.7"
  }
 },
 "nbformat": 4,
 "nbformat_minor": 5
}
