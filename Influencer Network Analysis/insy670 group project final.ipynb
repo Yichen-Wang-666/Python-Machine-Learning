{
 "cells": [
  {
   "cell_type": "markdown",
   "id": "c32568ba",
   "metadata": {},
   "source": [
    "# INSY 670 Group Project Part 2\n",
    "Alice Liu, Diwei Zhu, Yingxin Jiang, Kexin Wang, Yichen Wang"
   ]
  },
  {
   "cell_type": "markdown",
   "id": "249dc2e6",
   "metadata": {},
   "source": [
    "# Part 1"
   ]
  },
  {
   "cell_type": "markdown",
   "id": "71b58587",
   "metadata": {},
   "source": [
    "## 1.  Predictive Model"
   ]
  },
  {
   "cell_type": "markdown",
   "id": "8d56c7ac",
   "metadata": {},
   "source": [
    "### 1.1 Environment Setup"
   ]
  },
  {
   "cell_type": "code",
   "execution_count": null,
   "id": "03f67fcb",
   "metadata": {},
   "outputs": [],
   "source": [
    "import numpy as np\n",
    "import pandas as pd\n",
    "from sklearn.linear_model import LogisticRegression\n",
    "from sklearn.ensemble import RandomForestClassifier, GradientBoostingClassifier\n",
    "from sklearn.metrics import accuracy_score, confusion_matrix\n",
    "from sklearn.model_selection import cross_val_score, train_test_split\n",
    "from sklearn.preprocessing import StandardScaler,Normalizer\n",
    "#!pip install decorator==5.0.9 "
   ]
  },
  {
   "cell_type": "markdown",
   "id": "053b9773",
   "metadata": {},
   "source": [
    "### 1.2 Data Pre-processing"
   ]
  },
  {
   "cell_type": "code",
   "execution_count": null,
   "id": "35f01304",
   "metadata": {},
   "outputs": [],
   "source": [
    "train = pd.read_csv('train.csv')\n",
    "train.info()"
   ]
  },
  {
   "cell_type": "code",
   "execution_count": null,
   "id": "c5da58d8",
   "metadata": {},
   "outputs": [],
   "source": [
    "df = pd.DataFrame(columns = [\"A_B_follower_count\",\"A_B_following_count\",\"A_B_listed_count\",\"A_B_mentions_received\",\n",
    "                \"A_B_retweets_received\",\"A_B_mentions_sent\",\"A_B_retweets_sent\",\"A_B_posts\",\"A_B_network_feature_1\",\n",
    "                \"A_B_network_feature_2\",\"A_B_network_feature_3\"])"
   ]
  },
  {
   "cell_type": "code",
   "execution_count": null,
   "id": "e6da9341",
   "metadata": {},
   "outputs": [],
   "source": [
    "for i in range(11):\n",
    "    series = train.iloc[:,i+1]-train.iloc[:,i+1+11]\n",
    "    df.iloc[:,i] = series\n",
    "df['Choice'] = train['Choice']"
   ]
  },
  {
   "cell_type": "markdown",
   "id": "d25196a2",
   "metadata": {},
   "source": [
    "### 1.3 Features Selection"
   ]
  },
  {
   "cell_type": "code",
   "execution_count": null,
   "id": "3783e255",
   "metadata": {},
   "outputs": [],
   "source": [
    "### 应该是 X = df.iloc[:,:11]\n",
    "#X = df.iloc[:,:10]\n",
    "X = df.iloc[:,:11]\n",
    "y = df['Choice']\n",
    "\n",
    "scaler = StandardScaler()\n",
    "X_std = scaler.fit_transform(X)"
   ]
  },
  {
   "cell_type": "code",
   "execution_count": null,
   "id": "60c56d8e",
   "metadata": {},
   "outputs": [],
   "source": [
    "randomforest = RandomForestClassifier(random_state=42)\n",
    "model = randomforest.fit(X_std,y)\n",
    "importance = pd.DataFrame(list(zip(X.columns,model.feature_importances_)),columns=\n",
    "             ['predictor','feature importance'])\n",
    "print(importance.sort_values(by=['feature importance'],ascending = False).head(5))"
   ]
  },
  {
   "cell_type": "code",
   "execution_count": null,
   "id": "ce18e45c",
   "metadata": {},
   "outputs": [],
   "source": [
    "df2 = df[['A_B_listed_count','A_B_network_feature_1','A_B_mentions_received','A_B_follower_count','A_B_retweets_received']]"
   ]
  },
  {
   "cell_type": "markdown",
   "id": "5d16f789",
   "metadata": {},
   "source": [
    "### 1.4 Binary Classification"
   ]
  },
  {
   "cell_type": "markdown",
   "id": "d62e310d",
   "metadata": {},
   "source": [
    "#### 1.4.1 Train Test Split"
   ]
  },
  {
   "cell_type": "code",
   "execution_count": null,
   "id": "fe3c381d",
   "metadata": {},
   "outputs": [],
   "source": [
    "X_train, X_test, y_train, y_test = train_test_split(X_std,y,test_size=0.33,random_state=5)"
   ]
  },
  {
   "cell_type": "markdown",
   "id": "b9926e8c",
   "metadata": {},
   "source": [
    "#### 1.4.2 Logistic Regression"
   ]
  },
  {
   "cell_type": "code",
   "execution_count": null,
   "id": "348fa3c1",
   "metadata": {},
   "outputs": [],
   "source": [
    "# Run the Model\n",
    "lr = LogisticRegression()\n",
    "model_lr = lr.fit(X_std,y)\n",
    "\n",
    "# Calculate the accuracy score\n",
    "y_test_pred = model_lr.predict(X_test)\n",
    "print('Logistic Regression Accuracy Score:',accuracy_score(y_test,y_test_pred))\n",
    "\n",
    "# Confusion Matrix\n",
    "print('Logistic Regression Confusion Matrix:')\n",
    "print(pd.DataFrame(confusion_matrix(y_test,y_test_pred,labels=[0,1]),index=['true:0','true:1'],columns=['pred:0','pred:1']))"
   ]
  },
  {
   "cell_type": "markdown",
   "id": "facff07b",
   "metadata": {},
   "source": [
    "#### 1.4.3 Random Forest"
   ]
  },
  {
   "cell_type": "code",
   "execution_count": null,
   "id": "abe87398",
   "metadata": {},
   "outputs": [],
   "source": [
    "# Run the Model\n",
    "randomforest = RandomForestClassifier(random_state=42)\n",
    "model_rf = randomforest.fit(X_train,y_train)\n",
    "\n",
    "# Calculate the accuracy score\n",
    "y_test_pred = model_rf.predict(X_test)\n",
    "print('Random Forest Accuracy Score:',accuracy_score(y_test,y_test_pred))\n",
    "\n",
    "# Confusion Matrix\n",
    "print('Random Forest Confusion Matrix:')\n",
    "print(pd.DataFrame(confusion_matrix(y_test,y_test_pred,labels=[0,1]),index=['true:0','true:1'],columns=['pred:0','pred:1']))"
   ]
  },
  {
   "cell_type": "markdown",
   "id": "13c2dc3c",
   "metadata": {},
   "source": [
    "#### 1.4.4 Gradient Boosting"
   ]
  },
  {
   "cell_type": "code",
   "execution_count": null,
   "id": "9f253f0a",
   "metadata": {},
   "outputs": [],
   "source": [
    "# Run the Model\n",
    "gbt = GradientBoostingClassifier(random_state=42)\n",
    "model_gbt = gbt.fit(X_train,y_train)\n",
    "\n",
    "# Calculate the accuracy score\n",
    "y_test_pred = model_gbt.predict(X_test)\n",
    "print('Gradient Boosting Accuracy Score:',accuracy_score(y_test,y_test_pred))\n",
    "\n",
    "# Confusion Matrix\n",
    "print('Gradient Boosting Confusion Matrix:')\n",
    "print(pd.DataFrame(confusion_matrix(y_test,y_test_pred,labels=[0,1]),index=['true:0','true:1'],columns=['pred:0','pred:1']))"
   ]
  },
  {
   "cell_type": "markdown",
   "id": "ac305c86",
   "metadata": {},
   "source": [
    "According to accuracy score, we see that gradient boosting has the best performance."
   ]
  },
  {
   "cell_type": "markdown",
   "id": "f676eb3c",
   "metadata": {},
   "source": [
    "### 1.5 Results Analysis"
   ]
  },
  {
   "cell_type": "markdown",
   "id": "ef697526",
   "metadata": {},
   "source": [
    "**1. Which factors are best predictors of influence?**<br>\n",
    "According to the result of Random Forest's feature importance, we selected the top 5 factors: difference between A and B in 'A_B_listed_count','A_B_network_feature_1','A_B_mentions_received','A_B_follower_count', and 'A_B_retweets_received'.<br><br>\n",
    "\n",
    "**2. Are there any surprises here?** <br>\n",
    "We are not surprised by the result, because the more influential a person is on social media, the more interactive they become (mentions_received, retweets_received), the more popularity they gain (listed_count, follower_count).<br><br>\n",
    "\n",
    "**3. How can a business use your model/results?** <br>\n",
    "With our model, companies are able to find the most interactive and popular influencers among all users in Twitter to promote their products."
   ]
  },
  {
   "cell_type": "markdown",
   "id": "337ded7b",
   "metadata": {},
   "source": [
    "## 2. Financial value calculation"
   ]
  },
  {
   "cell_type": "markdown",
   "id": "5685f295",
   "metadata": {},
   "source": [
    "Influencers tweet twice: <br>\n",
    "profit margin: PM_tweet twice = -\\\\$10 + \\\\$10\\*0.03%\\*followers <br>\n",
    "\n",
    "Influencers tweet once: <br>\n",
    "profit margin: PM_tweet once = -\\\\$5 + \\\\$10\\*0.02%\\*followers <br>\n",
    "\n",
    "Normal users tweet once: <br> \n",
    "profit margin: PM_non influencer = -\\\\$5"
   ]
  },
  {
   "cell_type": "markdown",
   "id": "03420e22",
   "metadata": {},
   "source": [
    "### 2.1 expected net profit without model"
   ]
  },
  {
   "cell_type": "markdown",
   "id": "5259eef2",
   "metadata": {},
   "source": [
    "Make every user tweet once"
   ]
  },
  {
   "cell_type": "code",
   "execution_count": null,
   "id": "c411dc44",
   "metadata": {},
   "outputs": [],
   "source": [
    "A_follower_avg = train[\"A_follower_count\"].mean()\n",
    "B_follower_avg = train[\"B_follower_count\"].mean()"
   ]
  },
  {
   "cell_type": "code",
   "execution_count": null,
   "id": "5e624bb2",
   "metadata": {},
   "outputs": [],
   "source": [
    "cost1 = 8*(-5)\n",
    "income_influencer1 = 2*A_follower_avg*0.0002*10 + 2*B_follower_avg*0.0002*10  # John, Sue, Sandy & Moe\n",
    "income_non_influencer1 = 0  # Ted, Ron, Fred & Alex\n",
    "\n",
    "expected_net_profit_without_model = cost1 + income_influencer1 + income_non_influencer1 \n",
    "\n",
    "print(\"net profit without the model: $\"+ str(expected_net_profit_without_model))"
   ]
  },
  {
   "cell_type": "markdown",
   "id": "ebdb5416",
   "metadata": {},
   "source": [
    "### 2.2 expected net profit with the perfect model"
   ]
  },
  {
   "cell_type": "markdown",
   "id": "71d4b36b",
   "metadata": {},
   "source": [
    "Precisely identify all influencers"
   ]
  },
  {
   "cell_type": "code",
   "execution_count": null,
   "id": "a3ab57e1",
   "metadata": {},
   "outputs": [],
   "source": [
    "cost2 = 4*(-10)\n",
    "income_influencer2 = 2*A_follower_avg*0.0003*10 + 2*B_follower_avg*0.0003*10  # John, Sue, Sandy & Moe\n",
    "income_non_influencer2 = 0  # Ted, Ron, Fred & Alex\n",
    "\n",
    "expected_net_profit_with_perfect_model = cost2 + income_influencer2 + income_non_influencer2 \n",
    "\n",
    "print(\"net profit with the perfect model: $\"+ str(expected_net_profit_with_perfect_model))"
   ]
  },
  {
   "cell_type": "markdown",
   "id": "dbea8819",
   "metadata": {},
   "source": [
    "### 2.3 expected net profit with our model (accuracy = 0.7769)"
   ]
  },
  {
   "cell_type": "markdown",
   "id": "2a37e042",
   "metadata": {},
   "source": [
    "~77% of the influencers would be successfully identified by our model."
   ]
  },
  {
   "cell_type": "code",
   "execution_count": null,
   "id": "cc392743",
   "metadata": {},
   "outputs": [],
   "source": [
    "accuracy = accuracy_score(y_test,y_test_pred)"
   ]
  },
  {
   "cell_type": "code",
   "execution_count": null,
   "id": "7aecfda2",
   "metadata": {},
   "outputs": [],
   "source": [
    "accuracy"
   ]
  },
  {
   "cell_type": "code",
   "execution_count": null,
   "id": "0be3ff3f",
   "metadata": {},
   "outputs": [],
   "source": [
    "cost3 = 4*(-10)*accuracy\n",
    "income_influencer3 = 2*A_follower_avg*0.0003*10*accuracy + 2*B_follower_avg*0.0003*10*accuracy\n",
    "income_non_influencer3 = 0\n",
    "\n",
    "expected_net_profit_with_our_model = cost3 + income_influencer3 + income_non_influencer3 \n",
    "\n",
    "print(\"net profit with our model: $\"+ str(expected_net_profit_with_our_model))"
   ]
  },
  {
   "cell_type": "markdown",
   "id": "c03ef341",
   "metadata": {},
   "source": [
    "### 2.4 Financial value results"
   ]
  },
  {
   "cell_type": "code",
   "execution_count": null,
   "id": "be80b1d6",
   "metadata": {},
   "outputs": [],
   "source": [
    "print(\"boost in expected net profit from using our model = $\"+ str(expected_net_profit_with_our_model - expected_net_profit_without_model))\n",
    "print(\"boost in expected net profit from using perfect model = $\"+ str(expected_net_profit_with_perfect_model - expected_net_profit_without_model))"
   ]
  },
  {
   "cell_type": "markdown",
   "id": "23aee806",
   "metadata": {},
   "source": [
    "# Part 2"
   ]
  },
  {
   "cell_type": "markdown",
   "id": "07714780",
   "metadata": {},
   "source": [
    "## 1. Environment Setup"
   ]
  },
  {
   "cell_type": "code",
   "execution_count": null,
   "id": "a2be23d4",
   "metadata": {},
   "outputs": [],
   "source": [
    "import snscrape.modules.twitter as sntwitter\n",
    "import pandas as pd\n",
    "import re"
   ]
  },
  {
   "cell_type": "markdown",
   "id": "f646a5f0",
   "metadata": {},
   "source": [
    "## 2. Twitter Data Scraping"
   ]
  },
  {
   "cell_type": "code",
   "execution_count": null,
   "id": "d668f22a",
   "metadata": {},
   "outputs": [],
   "source": [
    "key_word = \"Zelda\"  # Declare the key word used to search tweets\n",
    "user_name = \"\"   # Declare a user name used to search tweets\n",
    "from_date = \"2020-01-01\" # Declare a start date\n",
    "end_date = '2021-03-19'  # Declare a end date\n",
    "count = 5000             # The maximum number of tweets\n",
    "tweets_list_keyword = [] # A list used to store the returned results for keyword search\n",
    "tweets_list_user = []    # A list used to store the retuned results for user search"
   ]
  },
  {
   "cell_type": "code",
   "execution_count": null,
   "id": "011353e6",
   "metadata": {},
   "outputs": [],
   "source": [
    "command_keyword = key_word+' since:'+from_date+' until:'+end_date # Define a string command for Scraper Api\n",
    "\n",
    "print(\"Scraping data for keyword:\", key_word)\n",
    "\n",
    "for i,tweet in enumerate(sntwitter.TwitterSearchScraper(command_keyword).get_items()):\n",
    "    tweets_list_keyword.append([tweet.user.username, tweet.mentionedUsers, tweet.retweetedTweet]) # Append returned results to list\n",
    "    if i>count:\n",
    "        break;\n",
    "        \n",
    "# Create a dataframe from the tweets list above \n",
    "tweets_df_keyword = pd.DataFrame(tweets_list_keyword, columns=['username','mentionedusers', 'retweet'])\n",
    "tweets_df_keyword.to_csv(\"tweets_keywords.csv\",index=False) # Export to a csv file\n",
    "print(\"Scraped data have been exported to the csv file\")"
   ]
  },
  {
   "cell_type": "markdown",
   "id": "806f0bca",
   "metadata": {},
   "source": [
    "## 3. Data  Preprocessing"
   ]
  },
  {
   "cell_type": "code",
   "execution_count": null,
   "id": "a50e52fd",
   "metadata": {},
   "outputs": [],
   "source": [
    "# load the tweets data we scrape\n",
    "tweets = pd.read_csv('tweets_keywords.csv')\n",
    "\n",
    "# select columns we need to work with\n",
    "tweets = tweets[['username','mentionedusers']]\n",
    "\n",
    "# drop null values, aka tweets with no interactions between users\n",
    "#tweets = tweets.dropna()\n",
    "\n",
    "# reset index from 0\n",
    "tweets = tweets.reset_index()\n",
    "\n",
    "# drop the index column\n",
    "df = tweets[['username','mentionedusers']]"
   ]
  },
  {
   "cell_type": "code",
   "execution_count": null,
   "id": "d323d7dc",
   "metadata": {},
   "outputs": [],
   "source": [
    "df"
   ]
  },
  {
   "cell_type": "code",
   "execution_count": null,
   "id": "a3431926",
   "metadata": {},
   "outputs": [],
   "source": [
    "import numpy as np\n",
    "for i in range(len(df[\"username\"])):\n",
    "    string = \"username=\"\n",
    "    df[\"mentionedusers\"]=df[\"mentionedusers\"].replace(np.nan,string)\n",
    "\n",
    "temp=[]\n",
    "for i in range(len(df[\"username\"])):\n",
    "    temp_set = []\n",
    "    temp_set.append(df[\"username\"][i])\n",
    "    temp_set.append(df[\"mentionedusers\"][i])\n",
    "    temp.append(temp_set)\n",
    "\n",
    "for i in range(len(temp)):\n",
    "    if temp[i][1]==\"username=\":\n",
    "        temp_string =\"username='\"+temp[i][0]+\"',\"\n",
    "        temp[i][1] = temp_string"
   ]
  },
  {
   "cell_type": "code",
   "execution_count": null,
   "id": "2d8d8bb3",
   "metadata": {},
   "outputs": [],
   "source": [
    "tweets = pd.DataFrame(temp,columns=[\"username\",\"mentionedusers\"])\n",
    "tweets"
   ]
  },
  {
   "cell_type": "code",
   "execution_count": null,
   "id": "620d2efe",
   "metadata": {},
   "outputs": [],
   "source": [
    "# calculate the number of mentioned users in a tweet\n",
    "count = []\n",
    "for i in range(tweets.shape[0]):\n",
    "    value = tweets['mentionedusers'][i].count('username=')\n",
    "    count.append(value)\n",
    "tweets['#mentionedusers']=pd.Series(count)"
   ]
  },
  {
   "cell_type": "code",
   "execution_count": null,
   "id": "46a3ab2f",
   "metadata": {},
   "outputs": [],
   "source": [
    "tweets"
   ]
  },
  {
   "cell_type": "code",
   "execution_count": null,
   "id": "ac5f45cb",
   "metadata": {},
   "outputs": [],
   "source": [
    "# take a look at how many users are mentioned\n",
    "tweets['#mentionedusers'].value_counts()"
   ]
  },
  {
   "cell_type": "code",
   "execution_count": null,
   "id": "c7bd46d5",
   "metadata": {},
   "outputs": [],
   "source": [
    "# cleaning mentionedusers column\n",
    "for i in range(tweets.shape[0]):\n",
    "    string = tweets['mentionedusers'][i]\n",
    "    users = re.findall(r'username=\\S+', string)\n",
    "    tweets['mentionedusers'][i]=users\n",
    "\n",
    "# extract usernames\n",
    "for i in range(tweets.shape[0]):\n",
    "    for j in range(len(tweets['mentionedusers'][i])):\n",
    "        newstring = tweets['mentionedusers'][i][j]\n",
    "        newstring = newstring[10:]\n",
    "        newstring = newstring[:-2]\n",
    "        tweets['mentionedusers'][i][j] = newstring"
   ]
  },
  {
   "cell_type": "markdown",
   "id": "5b2befed",
   "metadata": {},
   "source": [
    "## 4. Interaction records"
   ]
  },
  {
   "cell_type": "code",
   "execution_count": null,
   "id": "ea037d48",
   "metadata": {},
   "outputs": [],
   "source": [
    "user_mentioned = []\n",
    "user_posting_tweet = []"
   ]
  },
  {
   "cell_type": "code",
   "execution_count": null,
   "id": "e103ea63",
   "metadata": {},
   "outputs": [],
   "source": [
    "for i in range(tweets.shape[0]):\n",
    "    for j in range(len(tweets['mentionedusers'][i])):\n",
    "        user_mentioned.append(tweets['mentionedusers'][i][j])\n",
    "        user_posting_tweet.append(tweets['username'][i])"
   ]
  },
  {
   "cell_type": "code",
   "execution_count": null,
   "id": "152d8e9c",
   "metadata": {},
   "outputs": [],
   "source": [
    "interactions = pd.DataFrame()\n",
    "interactions['user_posting_tweet'] = user_posting_tweet\n",
    "interactions['user_mentioned'] = user_mentioned"
   ]
  },
  {
   "cell_type": "code",
   "execution_count": null,
   "id": "cc920911",
   "metadata": {},
   "outputs": [],
   "source": [
    "Type = []\n",
    "for i in range(len(user_posting_tweet)):\n",
    "    if user_posting_tweet[i]==user_mentioned[i]:\n",
    "        Type.append(\"Tweet\")\n",
    "    else:\n",
    "        Type.append(\"Non-tweet\")\n",
    "interactions[\"Type\"]=Type"
   ]
  },
  {
   "cell_type": "code",
   "execution_count": null,
   "id": "2a89f791",
   "metadata": {},
   "outputs": [],
   "source": [
    "interactions.to_csv(\"users_interactions.csv\",index=False) # Export to a csv file\n",
    "interactions"
   ]
  },
  {
   "cell_type": "markdown",
   "id": "208e3736",
   "metadata": {},
   "source": [
    "## 5. Mentioned Users Counts"
   ]
  },
  {
   "cell_type": "code",
   "execution_count": null,
   "id": "c5d8e659",
   "metadata": {},
   "outputs": [],
   "source": [
    "tweets"
   ]
  },
  {
   "cell_type": "code",
   "execution_count": null,
   "id": "00508104",
   "metadata": {},
   "outputs": [],
   "source": [
    "# count how many times a user is mentioned by others\n",
    "most = []\n",
    "for i in range(tweets.shape[0]):\n",
    "    for j in range(len(tweets['mentionedusers'][i])):\n",
    "        user = tweets['mentionedusers'][i][j]\n",
    "        most.append(user)"
   ]
  },
  {
   "cell_type": "code",
   "execution_count": null,
   "id": "f6312113",
   "metadata": {},
   "outputs": [],
   "source": [
    "# see the ranking\n",
    "most = pd.Series(most)\n",
    "value_counts = most.value_counts()\n",
    "\n",
    "# converting to df and assigning new names to the columns\n",
    "df_value_counts = pd.DataFrame(value_counts)\n",
    "df_value_counts = df_value_counts.reset_index()\n",
    "df_value_counts.columns = ['username', 'mentioned_counts'] # change column names\n",
    "df_value_counts.to_csv(\"mentioned_users_counts.csv\",index=False) # Export to a csv file\n",
    "df_value_counts"
   ]
  },
  {
   "cell_type": "markdown",
   "id": "3d0a4524",
   "metadata": {},
   "source": [
    "## 6. degree, betweeness, closeness"
   ]
  },
  {
   "cell_type": "code",
   "execution_count": null,
   "id": "d709703c",
   "metadata": {},
   "outputs": [],
   "source": [
    "data = pd.read_csv(\"users_interactions.csv\")"
   ]
  },
  {
   "cell_type": "code",
   "execution_count": null,
   "id": "eb6b1b3f",
   "metadata": {},
   "outputs": [],
   "source": [
    "import networkx as nx\n",
    "G = nx.DiGraph()"
   ]
  },
  {
   "cell_type": "code",
   "execution_count": null,
   "id": "2919c06f",
   "metadata": {},
   "outputs": [],
   "source": [
    "data"
   ]
  },
  {
   "cell_type": "code",
   "execution_count": null,
   "id": "20469b74",
   "metadata": {},
   "outputs": [],
   "source": [
    "lst=list()\n",
    "for (a,b) in zip(data[\"user_posting_tweet\"], data[\"user_mentioned\"]):\n",
    "    lst.append((a,b))\n",
    "G.add_edges_from(lst)"
   ]
  },
  {
   "cell_type": "code",
   "execution_count": null,
   "id": "ed6d6833",
   "metadata": {},
   "outputs": [],
   "source": [
    "lst"
   ]
  },
  {
   "cell_type": "code",
   "execution_count": null,
   "id": "6a630a71",
   "metadata": {},
   "outputs": [],
   "source": [
    "closeness_centrality=pd.DataFrame.from_dict(nx.closeness_centrality(G), orient='index').reset_index()\n",
    "closeness_centrality = closeness_centrality.rename(columns={0: 'closeness'})\n",
    "closeness_centrality"
   ]
  },
  {
   "cell_type": "code",
   "execution_count": null,
   "id": "a5113fed",
   "metadata": {},
   "outputs": [],
   "source": [
    "degree_centrality=pd.DataFrame.from_dict(nx.degree_centrality(G), orient='index').reset_index()\n",
    "degree_centrality = degree_centrality.rename(columns={0: 'degree'})\n",
    "degree_centrality"
   ]
  },
  {
   "cell_type": "code",
   "execution_count": null,
   "id": "ff69cdb7",
   "metadata": {},
   "outputs": [],
   "source": [
    "#!pip install decorator==5.0.9\n",
    "betweenness_centrality=pd.DataFrame.from_dict(nx.betweenness_centrality(G), orient='index').reset_index()\n",
    "betweenness_centrality = betweenness_centrality.rename(columns={0: 'betweenness'})\n",
    "betweenness_centrality"
   ]
  },
  {
   "cell_type": "code",
   "execution_count": null,
   "id": "a0c5f028",
   "metadata": {},
   "outputs": [],
   "source": [
    "betweenness_centrality[betweenness_centrality['betweenness']!=0]"
   ]
  },
  {
   "cell_type": "markdown",
   "id": "375f69ad",
   "metadata": {},
   "source": [
    "## 7. top 100"
   ]
  },
  {
   "cell_type": "markdown",
   "id": "80e877b1",
   "metadata": {},
   "source": [
    "Predictor  feature importance (weight)<br>\n",
    " network feature 1 = degree centrality<br><br>\n",
    "       A_B_listed_count            0.182173<br>\n",
    "  A_B_network_feature_1            0.123855<br> \n",
    "  A_B_mentions_received            0.114590<br>\n",
    "    A_B_follower_count            0.111455<br>\n",
    " A_B_retweets_received            0.087582<br>\n"
   ]
  },
  {
   "cell_type": "code",
   "execution_count": null,
   "id": "39537059",
   "metadata": {},
   "outputs": [],
   "source": [
    "G2 = nx.DiGraph()"
   ]
  },
  {
   "cell_type": "code",
   "execution_count": null,
   "id": "fc89ce8a",
   "metadata": {},
   "outputs": [],
   "source": [
    "lst2=list()\n",
    "for (a,b) in zip(data[\"user_mentioned\"], data[\"user_posting_tweet\"]):\n",
    "    lst2.append((a,b))\n",
    "G2.add_edges_from(lst2)"
   ]
  },
  {
   "cell_type": "code",
   "execution_count": null,
   "id": "40831ed3",
   "metadata": {},
   "outputs": [],
   "source": [
    "import matplotlib.pyplot as plt\n",
    "#nx.draw(G2)\n",
    "#plt.show()"
   ]
  },
  {
   "cell_type": "code",
   "execution_count": null,
   "id": "103655d3",
   "metadata": {},
   "outputs": [],
   "source": []
  },
  {
   "cell_type": "markdown",
   "id": "df0053b8",
   "metadata": {},
   "source": [
    "# Diwei：user info scraping\n",
    "### P.S. model里的retweets received 的feature scrape，用我们的API做不出来，建议modify model跳过=-=\n",
    "### Yichen: 你们可以试试在你们电脑上用我的key能不能进行scrape"
   ]
  },
  {
   "cell_type": "code",
   "execution_count": null,
   "id": "093a6f98",
   "metadata": {},
   "outputs": [],
   "source": [
    "# # get user information for the predictive model from all users appreared in our 5000 scraped tweets\n",
    "#Score = w1 × retweets + w2 × listed_count + w3 × #followers + w4 × network_feature_1, where w1+w2+w3+ w4 = 1.\n",
    "#!pip install tweepy"
   ]
  },
  {
   "cell_type": "code",
   "execution_count": null,
   "id": "267a5bdd",
   "metadata": {},
   "outputs": [],
   "source": [
    "import pandas as pd\n",
    "df_value_counts = pd.read_csv(\"mentioned_users_counts.csv\")\n",
    "df_value_counts"
   ]
  },
  {
   "cell_type": "code",
   "execution_count": null,
   "id": "54114829",
   "metadata": {},
   "outputs": [],
   "source": [
    "# import the module\n",
    "import tweepy\n",
    "  \n",
    "# assign the values accordingly\n",
    "consumer_key = \"ivL04VmAWKxWjeIM6TaeW7qus\"\n",
    "consumer_secret = \"wjQDHANXQOjljEthdFLHypqZMxJRRpTgVAayJFzegAPDEaCycD\"\n",
    "access_token = \"1490765033697165315-ycria79DhrhyfPXbx8ttWoOSsACdvT\"\n",
    "access_token_secret = \"mF9ltmDDQtTo8vT7jI7F7QpPL4BCWRYsN11akPJOjySqJ\"\n",
    "  \n",
    "# authorization of consumer key and consumer secret\n",
    "auth = tweepy.OAuthHandler(consumer_key, consumer_secret)\n",
    "  \n",
    "# set access to user's access key and access secret \n",
    "auth.set_access_token(access_token, access_token_secret)\n",
    "  \n",
    "# calling the api \n",
    "api = tweepy.API(auth)\n",
    "  \n"
   ]
  },
  {
   "cell_type": "code",
   "execution_count": null,
   "id": "9b5c7ef0",
   "metadata": {},
   "outputs": [],
   "source": [
    "#api.get_user(screen_name=\"Zeldathons\")\n",
    "#api.get_user(screen_name=\"Zeldathons\").listed_count"
   ]
  },
  {
   "cell_type": "code",
   "execution_count": null,
   "id": "ff2e79f5",
   "metadata": {},
   "outputs": [],
   "source": [
    "# the screen_name of the targeted user\n",
    "user_=df_value_counts[\"username\"]\n",
    "name=[]\n",
    "followers=[]\n",
    "listed_count=[]\n",
    "user_"
   ]
  },
  {
   "cell_type": "code",
   "execution_count": null,
   "id": "d94d7578",
   "metadata": {},
   "outputs": [],
   "source": [
    "import time\n",
    "import datetime\n",
    "for batch in range(10,21):\n",
    "    if batch <20:\n",
    "        start = time.time()\n",
    "        for i in user_[batch*200:batch*200+199]:\n",
    "            try:\n",
    "                name.append(api.get_user(screen_name=i).screen_name)\n",
    "                followers.append(api.get_user(screen_name=i).followers_count)\n",
    "                listed_count.append(api.get_user(screen_name=i).listed_count)\n",
    "            except:\n",
    "                print(\"The username\",i,\"no longer exists or got suspended\")\n",
    "        print(\"batch\",batch,\"complete\")\n",
    "        end = time.time()\n",
    "        print(\"Time used for batch\",batch,\":\",(end - start)/60,\"min\")\n",
    "        ct = datetime.datetime.now()\n",
    "        print(\"current timestamp:\", ct)\n",
    "        time.sleep(60*15) #wait for 15min refresh,1min used for buffer\n",
    "    else:\n",
    "        for i in user_[4000:]:\n",
    "            try:\n",
    "                name.append(api.get_user(screen_name=i).screen_name)\n",
    "                followers.append(api.get_user(screen_name=i).followers_count)\n",
    "                listed_count.append(api.get_user(screen_name=i).listed_count)\n",
    "            except:\n",
    "                print(\"The username\",i,\"no longer exists or got suspended\")"
   ]
  },
  {
   "cell_type": "code",
   "execution_count": null,
   "id": "d04ad075",
   "metadata": {},
   "outputs": [],
   "source": [
    "followers"
   ]
  },
  {
   "cell_type": "code",
   "execution_count": null,
   "id": "aac081fc",
   "metadata": {},
   "outputs": [],
   "source": [
    "listed_count"
   ]
  },
  {
   "cell_type": "code",
   "execution_count": null,
   "id": "7fb511db",
   "metadata": {},
   "outputs": [],
   "source": [
    "name"
   ]
  },
  {
   "cell_type": "code",
   "execution_count": null,
   "id": "faa20357",
   "metadata": {},
   "outputs": [],
   "source": [
    "score = pd.DataFrame(columns=['Username', 'followers', 'listed_count'])"
   ]
  },
  {
   "cell_type": "code",
   "execution_count": null,
   "id": "09f39431",
   "metadata": {},
   "outputs": [],
   "source": [
    "degree=[]\n",
    "mentioned=[]\n",
    "for i in name:\n",
    "    degree.append(degree_centrality.loc[degree_centrality['index'] == i].degree.values.tolist()[0])\n",
    "    mentioned.append(df_value_counts.loc[df_value_counts['username'] == i].mentioned_counts.values.tolist()[0])"
   ]
  },
  {
   "cell_type": "code",
   "execution_count": null,
   "id": "8b306564",
   "metadata": {},
   "outputs": [],
   "source": [
    "degree"
   ]
  },
  {
   "cell_type": "code",
   "execution_count": null,
   "id": "d31d753d",
   "metadata": {},
   "outputs": [],
   "source": [
    "mentioned"
   ]
  },
  {
   "cell_type": "code",
   "execution_count": null,
   "id": "0360a78c",
   "metadata": {},
   "outputs": [],
   "source": [
    "score[\"Username\"]=name\n",
    "score[\"followers\"]=followers\n",
    "score[\"listed_count\"]=listed_count\n",
    "score[\"degree\"]=degree\n",
    "score[\"mentioned\"]=mentioned"
   ]
  },
  {
   "cell_type": "code",
   "execution_count": null,
   "id": "8158bc30",
   "metadata": {},
   "outputs": [],
   "source": [
    "score.to_csv(\"score_prep.csv\",index=False)"
   ]
  },
  {
   "cell_type": "code",
   "execution_count": null,
   "id": "bae61997",
   "metadata": {},
   "outputs": [],
   "source": [
    "score1=pd.read_csv(\"score_prep4.csv\")"
   ]
  },
  {
   "cell_type": "code",
   "execution_count": null,
   "id": "931f376b",
   "metadata": {},
   "outputs": [],
   "source": [
    "score1"
   ]
  },
  {
   "cell_type": "code",
   "execution_count": null,
   "id": "336c5625",
   "metadata": {},
   "outputs": [],
   "source": [
    "frames = [score1,score]\n",
    "score_final = pd.concat(frames)\n",
    "score_final = score_final.reset_index()\n",
    "score_final = score_final.drop(columns=\"index\")\n",
    "score_final"
   ]
  },
  {
   "cell_type": "code",
   "execution_count": null,
   "id": "91012c4f",
   "metadata": {},
   "outputs": [],
   "source": [
    "score_final.to_csv(\"score_prep_final.csv\",index=False)"
   ]
  },
  {
   "cell_type": "code",
   "execution_count": 30,
   "id": "871a0575",
   "metadata": {},
   "outputs": [],
   "source": [
    "import numpy as np\n",
    "import pandas as pd\n",
    "from sklearn.preprocessing import StandardScaler,Normalizer\n",
    "\n",
    "score_final=pd.read_csv(\"score_prep_final.csv\")\n",
    "score_final = score_final.drop(score_final[score_final.mentioned < 3].index)"
   ]
  },
  {
   "cell_type": "code",
   "execution_count": 31,
   "id": "ad35a39f",
   "metadata": {},
   "outputs": [],
   "source": [
    "X_score = score_final.iloc[:,1:]\n",
    "scaler = StandardScaler()\n",
    "X_norm = scaler.fit_transform(X_score)"
   ]
  },
  {
   "cell_type": "code",
   "execution_count": 32,
   "id": "730d88f0",
   "metadata": {},
   "outputs": [
    {
     "data": {
      "text/html": [
       "<div>\n",
       "<style scoped>\n",
       "    .dataframe tbody tr th:only-of-type {\n",
       "        vertical-align: middle;\n",
       "    }\n",
       "\n",
       "    .dataframe tbody tr th {\n",
       "        vertical-align: top;\n",
       "    }\n",
       "\n",
       "    .dataframe thead th {\n",
       "        text-align: right;\n",
       "    }\n",
       "</style>\n",
       "<table border=\"1\" class=\"dataframe\">\n",
       "  <thead>\n",
       "    <tr style=\"text-align: right;\">\n",
       "      <th></th>\n",
       "      <th>followers</th>\n",
       "      <th>listed_count</th>\n",
       "      <th>degree</th>\n",
       "      <th>mentioned</th>\n",
       "      <th>Username</th>\n",
       "    </tr>\n",
       "  </thead>\n",
       "  <tbody>\n",
       "    <tr>\n",
       "      <th>0</th>\n",
       "      <td>-0.115482</td>\n",
       "      <td>-0.133794</td>\n",
       "      <td>13.407544</td>\n",
       "      <td>9.748261</td>\n",
       "      <td>Zeldathons</td>\n",
       "    </tr>\n",
       "    <tr>\n",
       "      <th>1</th>\n",
       "      <td>-0.114875</td>\n",
       "      <td>-0.132522</td>\n",
       "      <td>3.386342</td>\n",
       "      <td>3.950143</td>\n",
       "      <td>Zelda_king13</td>\n",
       "    </tr>\n",
       "    <tr>\n",
       "      <th>2</th>\n",
       "      <td>-0.115426</td>\n",
       "      <td>-0.133031</td>\n",
       "      <td>-0.007935</td>\n",
       "      <td>2.853201</td>\n",
       "      <td>tweetNorvena</td>\n",
       "    </tr>\n",
       "    <tr>\n",
       "      <th>3</th>\n",
       "      <td>-0.115399</td>\n",
       "      <td>-0.133158</td>\n",
       "      <td>-0.007935</td>\n",
       "      <td>2.853201</td>\n",
       "      <td>DonnaVita4</td>\n",
       "    </tr>\n",
       "    <tr>\n",
       "      <th>4</th>\n",
       "      <td>-0.115449</td>\n",
       "      <td>-0.133286</td>\n",
       "      <td>-0.007935</td>\n",
       "      <td>2.853201</td>\n",
       "      <td>Bonu19RC</td>\n",
       "    </tr>\n",
       "    <tr>\n",
       "      <th>...</th>\n",
       "      <td>...</td>\n",
       "      <td>...</td>\n",
       "      <td>...</td>\n",
       "      <td>...</td>\n",
       "      <td>...</td>\n",
       "    </tr>\n",
       "    <tr>\n",
       "      <th>253</th>\n",
       "      <td>-0.108746</td>\n",
       "      <td>-0.104669</td>\n",
       "      <td>-0.331200</td>\n",
       "      <td>-0.437622</td>\n",
       "      <td>DullVivid</td>\n",
       "    </tr>\n",
       "    <tr>\n",
       "      <th>254</th>\n",
       "      <td>-0.115267</td>\n",
       "      <td>-0.131887</td>\n",
       "      <td>-0.277323</td>\n",
       "      <td>-0.437622</td>\n",
       "      <td>writersflood</td>\n",
       "    </tr>\n",
       "    <tr>\n",
       "      <th>255</th>\n",
       "      <td>-0.111326</td>\n",
       "      <td>-0.117642</td>\n",
       "      <td>-0.331200</td>\n",
       "      <td>-0.437622</td>\n",
       "      <td>sme_rt</td>\n",
       "    </tr>\n",
       "    <tr>\n",
       "      <th>256</th>\n",
       "      <td>-0.115483</td>\n",
       "      <td>-0.133794</td>\n",
       "      <td>-0.385077</td>\n",
       "      <td>-0.437622</td>\n",
       "      <td>ghosty_geist</td>\n",
       "    </tr>\n",
       "    <tr>\n",
       "      <th>257</th>\n",
       "      <td>-0.115433</td>\n",
       "      <td>-0.132141</td>\n",
       "      <td>-0.385077</td>\n",
       "      <td>-0.437622</td>\n",
       "      <td>fenturd</td>\n",
       "    </tr>\n",
       "  </tbody>\n",
       "</table>\n",
       "<p>258 rows × 5 columns</p>\n",
       "</div>"
      ],
      "text/plain": [
       "     followers  listed_count     degree  mentioned      Username\n",
       "0    -0.115482     -0.133794  13.407544   9.748261    Zeldathons\n",
       "1    -0.114875     -0.132522   3.386342   3.950143  Zelda_king13\n",
       "2    -0.115426     -0.133031  -0.007935   2.853201  tweetNorvena\n",
       "3    -0.115399     -0.133158  -0.007935   2.853201    DonnaVita4\n",
       "4    -0.115449     -0.133286  -0.007935   2.853201      Bonu19RC\n",
       "..         ...           ...        ...        ...           ...\n",
       "253  -0.108746     -0.104669  -0.331200  -0.437622     DullVivid\n",
       "254  -0.115267     -0.131887  -0.277323  -0.437622  writersflood\n",
       "255  -0.111326     -0.117642  -0.331200  -0.437622        sme_rt\n",
       "256  -0.115483     -0.133794  -0.385077  -0.437622  ghosty_geist\n",
       "257  -0.115433     -0.132141  -0.385077  -0.437622       fenturd\n",
       "\n",
       "[258 rows x 5 columns]"
      ]
     },
     "execution_count": 32,
     "metadata": {},
     "output_type": "execute_result"
    }
   ],
   "source": [
    "df_final = pd.DataFrame(X_norm,columns=[\"followers\",\"listed_count\",\"degree\",\"mentioned\"])\n",
    "df_final[\"Username\"]=score_final[\"Username\"]\n",
    "df_final"
   ]
  },
  {
   "cell_type": "code",
   "execution_count": 33,
   "id": "e05d6795",
   "metadata": {},
   "outputs": [
    {
     "data": {
      "text/plain": [
       "[4.656317973132313,\n",
       " 1.365420068573305,\n",
       " 0.39359505464566086,\n",
       " 0.39355081139804815,\n",
       " 0.3934904547824353,\n",
       " 0.3934438020592338,\n",
       " 0.393437296475144,\n",
       " 0.39348726222728014,\n",
       " 0.5626900931857998,\n",
       " 0.612207101152242,\n",
       " 1.4404644363341208,\n",
       " 0.26527495089855124,\n",
       " 0.2651224935743298,\n",
       " 0.26521956382634027,\n",
       " 0.2651665259928284,\n",
       " 0.2652229672106095,\n",
       " 0.4591110401570583,\n",
       " 0.43296946695237437,\n",
       " 0.35904839230169144,\n",
       " 0.5677966044390448,\n",
       " 0.2424134305636481,\n",
       " 0.5544786570362805,\n",
       " 0.4906036911417966,\n",
       " 0.284590432239603,\n",
       " 0.3525589675625226,\n",
       " 0.3509380401799923,\n",
       " 0.4283563970081145,\n",
       " 0.35796638806428654,\n",
       " 0.4906581318228249,\n",
       " 0.269396967760069,\n",
       " 0.11747097670551748,\n",
       " 0.2241285996992324,\n",
       " 0.15425485396961638,\n",
       " -0.04390384842091915,\n",
       " -0.04561680954418646,\n",
       " -0.043675613089429556,\n",
       " -0.041136173675396834,\n",
       " -0.04096483208624807,\n",
       " -0.03377126820511681,\n",
       " -0.0411162360127863,\n",
       " 0.03451066279800741,\n",
       " -0.0404113536518087,\n",
       " -0.04064079222531895,\n",
       " -0.039958887994109044,\n",
       " -0.04100675696149339,\n",
       " 0.009345034476940371,\n",
       " 1.1991604963606817,\n",
       " -0.04113060176309771,\n",
       " 0.1406664868692286,\n",
       " 0.14077229296602234,\n",
       " 0.1407875615217927,\n",
       " 0.03476864052498343,\n",
       " 0.14203228240112237,\n",
       " 0.021110171823442027,\n",
       " 0.134555170347816,\n",
       " 0.1352298513874676,\n",
       " 0.1460979987171484,\n",
       " 0.13766177677759076,\n",
       " -0.11682108086932345,\n",
       " 0.021780386229445704,\n",
       " -0.11710120878553333,\n",
       " -0.11665687809949342,\n",
       " -0.11720963369125614,\n",
       " -0.1669978268977775,\n",
       " 0.0058956310470389735,\n",
       " -0.11700446983641628,\n",
       " 0.05193925588040588,\n",
       " 0.1146990562690655,\n",
       " 6.201122677294433,\n",
       " -0.18038747298853258,\n",
       " -0.12415889524431775,\n",
       " -0.18686318733910007,\n",
       " -0.18686478361667766,\n",
       " -0.05976630454528731,\n",
       " -0.08868967492541932,\n",
       " -0.11809616065151755,\n",
       " -0.1176868863395211,\n",
       " -0.11799508464634063,\n",
       " -0.065376520851533,\n",
       " -0.11809486555838856,\n",
       " -0.18079671805913722,\n",
       " -0.19247743577752266,\n",
       " -0.11047779650154942,\n",
       " -0.16819407047147625,\n",
       " 0.06359777380293652,\n",
       " -0.19713310970658937,\n",
       " -0.07415505858908505,\n",
       " -0.2049826370784783,\n",
       " -0.1279442523070512,\n",
       " -0.10798562157244268,\n",
       " 0.055207859241698846,\n",
       " 0.05710206155286878,\n",
       " -0.1559032873450303,\n",
       " -0.14799568811098798,\n",
       " -0.2064927636078742,\n",
       " -0.19970842152437177,\n",
       " -0.2249578958564951,\n",
       " -0.1993904655893044,\n",
       " -0.14083915570718414,\n",
       " -0.14969744517276734,\n",
       " -0.17515289655774174,\n",
       " 0.050795609870867876,\n",
       " -0.14350987385744482,\n",
       " -0.19880747182678896,\n",
       " -0.19644317519807106,\n",
       " -0.12961553328986578,\n",
       " -0.2190573167271613,\n",
       " -0.1482091735045196,\n",
       " -0.09373821294150239,\n",
       " 6.5893605598435725,\n",
       " -0.15179497717044874,\n",
       " -0.1406899953765709,\n",
       " -0.16806030457547044,\n",
       " -0.12884647533523985,\n",
       " -0.15598477164228206,\n",
       " -0.21914164687699597,\n",
       " -0.18117039337552812,\n",
       " -0.18811266806810295,\n",
       " -0.21319468609046444,\n",
       " -0.23822207000173656,\n",
       " -0.2128849826092888,\n",
       " -0.14748077970592072,\n",
       " -0.20029789312535884,\n",
       " -0.21289486145920294,\n",
       " -0.1663307326986757,\n",
       " -0.22563519134692067,\n",
       " -0.20049010604890882,\n",
       " -0.22475309504793345,\n",
       " -0.16679475336878546,\n",
       " -0.18789500505864615,\n",
       " -0.22486907818754237,\n",
       " -0.17379863053630062,\n",
       " -0.17926942885030733,\n",
       " -0.17521349574585338,\n",
       " -0.20509468787718965,\n",
       " -0.2068506489621048,\n",
       " -0.22984814059005437,\n",
       " -0.20495224932172046,\n",
       " -0.2320518742934491,\n",
       " -0.20691070439326908,\n",
       " -0.20702578547530598,\n",
       " -0.20273803365162757,\n",
       " -0.20600364065137972,\n",
       " -0.20713216232677828,\n",
       " -0.2313953621549169,\n",
       " -0.2196726894428413,\n",
       " -0.19128545791784968,\n",
       " -0.20712628923003057,\n",
       " -0.21952243076509464,\n",
       " -0.19204912998742052,\n",
       " -0.1442621909104809,\n",
       " -0.23221415023069497,\n",
       " -0.2193584681949366,\n",
       " -0.2135635184801804,\n",
       " -0.2315347759488533,\n",
       " -0.21950201045947948,\n",
       " -0.14280044324847085,\n",
       " -0.2318983929421024,\n",
       " -0.22989819594963823,\n",
       " -0.1945369107442913,\n",
       " -0.14421855003176542,\n",
       " -0.21735787517536798,\n",
       " -0.14216570524979882,\n",
       " -0.19842336192133914,\n",
       " -0.24475256905561776,\n",
       " -0.16212627486410125,\n",
       " -0.17103995697905047,\n",
       " -0.20713068652298017,\n",
       " -0.11064431659263474,\n",
       " -0.19097686059237817,\n",
       " -0.23199597520767556,\n",
       " -0.1941601643527438,\n",
       " -0.22590110498209642,\n",
       " -0.19255405117594823,\n",
       " -0.22568473706576858,\n",
       " -0.19883421647558674,\n",
       " -0.23844440299508657,\n",
       " -0.20422187272107206,\n",
       " -0.18784001040327136,\n",
       " -0.2386935691499802,\n",
       " -0.2130416581407305,\n",
       " -0.2385383710472765,\n",
       " -0.225763525421749,\n",
       " -0.22584385056630418,\n",
       " -0.2261011487013101,\n",
       " 2.2188038356655135,\n",
       " -0.2134558711297972,\n",
       " -0.21297976398865603,\n",
       " -0.21767753930533468,\n",
       " -0.22561349996903918,\n",
       " -0.23819508550008173,\n",
       " -0.22546939317656606,\n",
       " -0.22614629550226856,\n",
       " -0.22615243966502002,\n",
       " -0.21279703987101078,\n",
       " -0.21292229650008915,\n",
       " -0.17473109622256322,\n",
       " -0.23869423175576715,\n",
       " -0.22603455756761115,\n",
       " -0.22614810260896012,\n",
       " -0.25102104137865,\n",
       " -0.23747981302351429,\n",
       " -0.22790766161603387,\n",
       " -0.23868311804961373,\n",
       " -0.18817362792966602,\n",
       " -0.23869155121417457,\n",
       " -0.23869094884527736,\n",
       " -0.21349794584937992,\n",
       " -0.23859080651189113,\n",
       " -0.17063084875680373,\n",
       " -0.20722598992745805,\n",
       " -0.2356736676755103,\n",
       " -0.2386401397766852,\n",
       " -0.2366919822217312,\n",
       " -0.2370794244006384,\n",
       " -0.21317297231666016,\n",
       " -0.23864239866004971,\n",
       " -0.2111417834444349,\n",
       " -0.2087864245149717,\n",
       " -0.22609530572300718,\n",
       " -0.23867317896280987,\n",
       " -0.23869314749175213,\n",
       " -0.2199961649503716,\n",
       " -0.23839756881332902,\n",
       " -0.22527666749156655,\n",
       " -0.23808870939649635,\n",
       " -0.22091726837488707,\n",
       " -0.22560188122395836,\n",
       " -0.2135590554261143,\n",
       " -0.20064175180005894,\n",
       " -0.22452877524344178,\n",
       " -0.23868640096010346,\n",
       " -0.1274140261097171,\n",
       " -0.23858842715474715,\n",
       " -0.21215413902589475,\n",
       " -0.2379795917665417,\n",
       " -0.2133353386092406,\n",
       " -0.22517613436628398,\n",
       " -0.2512334336602563,\n",
       " -0.22464840645431322,\n",
       " -0.23848108651303934,\n",
       " -0.22577141645430238,\n",
       " -0.2134035260205171,\n",
       " -0.21349975295607154,\n",
       " -0.22596652074855894,\n",
       " 1.2931918440707064,\n",
       " -0.2386417360542628,\n",
       " -0.23864131439603475,\n",
       " -0.22077401682437658,\n",
       " -0.22580563025977662,\n",
       " -0.23863827243310387,\n",
       " -0.25122957849931415,\n",
       " -0.24898596348760338,\n",
       " -0.21331338895323604,\n",
       " -0.21281751966562878,\n",
       " -0.21894419688293876,\n",
       " -0.23869435222954655,\n",
       " -0.23803509931253214]"
      ]
     },
     "execution_count": 33,
     "metadata": {},
     "output_type": "execute_result"
    }
   ],
   "source": [
    "#A_B_listed_count 0.182173\n",
    "#A_B_network_feature_1 0.123855\n",
    "#A_B_mentions_received 0.114590\n",
    "#A_B_follower_count 0.111455\n",
    "#A_B_retweets_received 0.087582\n",
    "ratio = 1.0/(0.182173+0.123855+0.114590+0.111455)\n",
    "adjust = 0.05\n",
    "w_list = 0.182173*ratio+adjust\n",
    "w_feat = 0.123855*ratio\n",
    "w_follow = 0.111455*ratio\n",
    "w_mention = 0.114590*ratio-adjust\n",
    "\n",
    "rate=[]\n",
    "for i in range(len(score_final)):\n",
    "    rate.append(w_list*df_final[\"listed_count\"][i]\n",
    "                +w_feat*df_final[\"degree\"][i]\n",
    "                +w_follow*df_final[\"followers\"][i]\n",
    "                +w_mention*df_final[\"mentioned\"][i])\n",
    "rate"
   ]
  },
  {
   "cell_type": "code",
   "execution_count": 34,
   "id": "ae9402ae",
   "metadata": {},
   "outputs": [
    {
     "name": "stdout",
     "output_type": "stream",
     "text": [
      "0.16536518485245444\n",
      "0.39238346993739576\n"
     ]
    }
   ],
   "source": [
    "print(w_mention)\n",
    "print(w_list)"
   ]
  },
  {
   "cell_type": "code",
   "execution_count": 35,
   "id": "1a7b38e3",
   "metadata": {},
   "outputs": [],
   "source": [
    "score_final[\"score\"]=rate\n",
    "score_final=score_final.sort_values(by=\"score\",ascending=False).reset_index()\n",
    "popularity = score_final.head(100)"
   ]
  },
  {
   "cell_type": "code",
   "execution_count": 36,
   "id": "2e1ccc09",
   "metadata": {},
   "outputs": [],
   "source": [
    "popularity=popularity.drop(columns=\"index\")"
   ]
  },
  {
   "cell_type": "code",
   "execution_count": 37,
   "id": "62181381",
   "metadata": {},
   "outputs": [
    {
     "data": {
      "text/html": [
       "<div>\n",
       "<style scoped>\n",
       "    .dataframe tbody tr th:only-of-type {\n",
       "        vertical-align: middle;\n",
       "    }\n",
       "\n",
       "    .dataframe tbody tr th {\n",
       "        vertical-align: top;\n",
       "    }\n",
       "\n",
       "    .dataframe thead th {\n",
       "        text-align: right;\n",
       "    }\n",
       "</style>\n",
       "<table border=\"1\" class=\"dataframe\">\n",
       "  <thead>\n",
       "    <tr style=\"text-align: right;\">\n",
       "      <th></th>\n",
       "      <th>Username</th>\n",
       "      <th>followers</th>\n",
       "      <th>listed_count</th>\n",
       "      <th>degree</th>\n",
       "      <th>mentioned</th>\n",
       "      <th>score</th>\n",
       "    </tr>\n",
       "  </thead>\n",
       "  <tbody>\n",
       "    <tr>\n",
       "      <th>0</th>\n",
       "      <td>elonmusk</td>\n",
       "      <td>78986831</td>\n",
       "      <td>88007</td>\n",
       "      <td>0.000897</td>\n",
       "      <td>6</td>\n",
       "      <td>6.589361</td>\n",
       "    </tr>\n",
       "    <tr>\n",
       "      <th>1</th>\n",
       "      <td>YouTube</td>\n",
       "      <td>74700911</td>\n",
       "      <td>79895</td>\n",
       "      <td>0.002333</td>\n",
       "      <td>13</td>\n",
       "      <td>6.201123</td>\n",
       "    </tr>\n",
       "    <tr>\n",
       "      <th>2</th>\n",
       "      <td>Zeldathons</td>\n",
       "      <td>6</td>\n",
       "      <td>0</td>\n",
       "      <td>0.046303</td>\n",
       "      <td>263</td>\n",
       "      <td>4.656318</td>\n",
       "    </tr>\n",
       "    <tr>\n",
       "      <th>3</th>\n",
       "      <td>PlayStation</td>\n",
       "      <td>24489619</td>\n",
       "      <td>34212</td>\n",
       "      <td>0.000538</td>\n",
       "      <td>3</td>\n",
       "      <td>2.218804</td>\n",
       "    </tr>\n",
       "    <tr>\n",
       "      <th>4</th>\n",
       "      <td>nerdist</td>\n",
       "      <td>481964</td>\n",
       "      <td>4772</td>\n",
       "      <td>0.013819</td>\n",
       "      <td>78</td>\n",
       "      <td>1.440464</td>\n",
       "    </tr>\n",
       "    <tr>\n",
       "      <th>...</th>\n",
       "      <td>...</td>\n",
       "      <td>...</td>\n",
       "      <td>...</td>\n",
       "      <td>...</td>\n",
       "      <td>...</td>\n",
       "      <td>...</td>\n",
       "    </tr>\n",
       "    <tr>\n",
       "      <th>95</th>\n",
       "      <td>PenOfSmiting</td>\n",
       "      <td>2590</td>\n",
       "      <td>31</td>\n",
       "      <td>0.001615</td>\n",
       "      <td>4</td>\n",
       "      <td>-0.142800</td>\n",
       "    </tr>\n",
       "    <tr>\n",
       "      <th>96</th>\n",
       "      <td>RanguGamer</td>\n",
       "      <td>90331</td>\n",
       "      <td>77</td>\n",
       "      <td>0.001256</td>\n",
       "      <td>7</td>\n",
       "      <td>-0.143510</td>\n",
       "    </tr>\n",
       "    <tr>\n",
       "      <th>97</th>\n",
       "      <td>Scotland1509</td>\n",
       "      <td>244</td>\n",
       "      <td>4</td>\n",
       "      <td>0.001615</td>\n",
       "      <td>4</td>\n",
       "      <td>-0.144219</td>\n",
       "    </tr>\n",
       "    <tr>\n",
       "      <th>98</th>\n",
       "      <td>GenesaurusRex</td>\n",
       "      <td>452</td>\n",
       "      <td>3</td>\n",
       "      <td>0.001615</td>\n",
       "      <td>4</td>\n",
       "      <td>-0.144262</td>\n",
       "    </tr>\n",
       "    <tr>\n",
       "      <th>99</th>\n",
       "      <td>xstex</td>\n",
       "      <td>196838</td>\n",
       "      <td>1198</td>\n",
       "      <td>0.000538</td>\n",
       "      <td>5</td>\n",
       "      <td>-0.147481</td>\n",
       "    </tr>\n",
       "  </tbody>\n",
       "</table>\n",
       "<p>100 rows × 6 columns</p>\n",
       "</div>"
      ],
      "text/plain": [
       "         Username  followers  listed_count    degree  mentioned     score\n",
       "0        elonmusk   78986831         88007  0.000897          6  6.589361\n",
       "1         YouTube   74700911         79895  0.002333         13  6.201123\n",
       "2      Zeldathons          6             0  0.046303        263  4.656318\n",
       "3     PlayStation   24489619         34212  0.000538          3  2.218804\n",
       "4         nerdist     481964          4772  0.013819         78  1.440464\n",
       "..            ...        ...           ...       ...        ...       ...\n",
       "95   PenOfSmiting       2590            31  0.001615          4 -0.142800\n",
       "96     RanguGamer      90331            77  0.001256          7 -0.143510\n",
       "97   Scotland1509        244             4  0.001615          4 -0.144219\n",
       "98  GenesaurusRex        452             3  0.001615          4 -0.144262\n",
       "99          xstex     196838          1198  0.000538          5 -0.147481\n",
       "\n",
       "[100 rows x 6 columns]"
      ]
     },
     "execution_count": 37,
     "metadata": {},
     "output_type": "execute_result"
    }
   ],
   "source": [
    "popularity"
   ]
  },
  {
   "cell_type": "code",
   "execution_count": 38,
   "id": "5584a55b",
   "metadata": {},
   "outputs": [],
   "source": [
    "popularity.to_csv(\"popularity.csv\",index=False)"
   ]
  },
  {
   "cell_type": "markdown",
   "id": "2e6e1c10",
   "metadata": {},
   "source": [
    "# 8. Visualization"
   ]
  },
  {
   "cell_type": "code",
   "execution_count": 39,
   "id": "617185ab",
   "metadata": {},
   "outputs": [],
   "source": [
    "popularity=pd.read_csv('popularity.csv')\n",
    "interactions=pd.read_csv('users_interactions.csv')"
   ]
  },
  {
   "cell_type": "code",
   "execution_count": 40,
   "id": "feaa8d97",
   "metadata": {},
   "outputs": [],
   "source": [
    "top=popularity['Username']"
   ]
  },
  {
   "cell_type": "code",
   "execution_count": 41,
   "id": "3d5269c0",
   "metadata": {},
   "outputs": [],
   "source": [
    "viz=interactions[interactions['user_mentioned'].isin(top)]\n",
    "viz=viz.reset_index(drop=True)"
   ]
  },
  {
   "cell_type": "code",
   "execution_count": 42,
   "id": "5e8e90cd",
   "metadata": {},
   "outputs": [
    {
     "data": {
      "text/html": [
       "<div>\n",
       "<style scoped>\n",
       "    .dataframe tbody tr th:only-of-type {\n",
       "        vertical-align: middle;\n",
       "    }\n",
       "\n",
       "    .dataframe tbody tr th {\n",
       "        vertical-align: top;\n",
       "    }\n",
       "\n",
       "    .dataframe thead th {\n",
       "        text-align: right;\n",
       "    }\n",
       "</style>\n",
       "<table border=\"1\" class=\"dataframe\">\n",
       "  <thead>\n",
       "    <tr style=\"text-align: right;\">\n",
       "      <th></th>\n",
       "      <th>user_posting_tweet</th>\n",
       "      <th>user_mentioned</th>\n",
       "      <th>Type</th>\n",
       "    </tr>\n",
       "  </thead>\n",
       "  <tbody>\n",
       "    <tr>\n",
       "      <th>0</th>\n",
       "      <td>Bearman851</td>\n",
       "      <td>Zeldathons</td>\n",
       "      <td>0</td>\n",
       "    </tr>\n",
       "    <tr>\n",
       "      <th>1</th>\n",
       "      <td>jaymisaeki</td>\n",
       "      <td>Zeldathons</td>\n",
       "      <td>0</td>\n",
       "    </tr>\n",
       "    <tr>\n",
       "      <th>2</th>\n",
       "      <td>DeMistyB</td>\n",
       "      <td>Zeldathons</td>\n",
       "      <td>0</td>\n",
       "    </tr>\n",
       "    <tr>\n",
       "      <th>3</th>\n",
       "      <td>USMC1683</td>\n",
       "      <td>HitCockBottom</td>\n",
       "      <td>0</td>\n",
       "    </tr>\n",
       "    <tr>\n",
       "      <th>4</th>\n",
       "      <td>minimarker3</td>\n",
       "      <td>PowerPlayRPG</td>\n",
       "      <td>0</td>\n",
       "    </tr>\n",
       "    <tr>\n",
       "      <th>...</th>\n",
       "      <td>...</td>\n",
       "      <td>...</td>\n",
       "      <td>...</td>\n",
       "    </tr>\n",
       "    <tr>\n",
       "      <th>2984</th>\n",
       "      <td>YvoDreamcatcher</td>\n",
       "      <td>Anna55714043</td>\n",
       "      <td>0</td>\n",
       "    </tr>\n",
       "    <tr>\n",
       "      <th>2985</th>\n",
       "      <td>tjamara_</td>\n",
       "      <td>Zelda_king13</td>\n",
       "      <td>0</td>\n",
       "    </tr>\n",
       "    <tr>\n",
       "      <th>2986</th>\n",
       "      <td>tjamara_</td>\n",
       "      <td>drecksuser</td>\n",
       "      <td>0</td>\n",
       "    </tr>\n",
       "    <tr>\n",
       "      <th>2987</th>\n",
       "      <td>drecksuser</td>\n",
       "      <td>Zelda_king13</td>\n",
       "      <td>0</td>\n",
       "    </tr>\n",
       "    <tr>\n",
       "      <th>2988</th>\n",
       "      <td>drecksuser</td>\n",
       "      <td>YungGlurak</td>\n",
       "      <td>0</td>\n",
       "    </tr>\n",
       "  </tbody>\n",
       "</table>\n",
       "<p>2989 rows × 3 columns</p>\n",
       "</div>"
      ],
      "text/plain": [
       "     user_posting_tweet user_mentioned  Type\n",
       "0            Bearman851     Zeldathons     0\n",
       "1            jaymisaeki     Zeldathons     0\n",
       "2              DeMistyB     Zeldathons     0\n",
       "3              USMC1683  HitCockBottom     0\n",
       "4           minimarker3   PowerPlayRPG     0\n",
       "...                 ...            ...   ...\n",
       "2984    YvoDreamcatcher   Anna55714043     0\n",
       "2985           tjamara_   Zelda_king13     0\n",
       "2986           tjamara_     drecksuser     0\n",
       "2987         drecksuser   Zelda_king13     0\n",
       "2988         drecksuser     YungGlurak     0\n",
       "\n",
       "[2989 rows x 3 columns]"
      ]
     },
     "execution_count": 42,
     "metadata": {},
     "output_type": "execute_result"
    }
   ],
   "source": [
    "viz['Type']=np.where(viz['Type']=='Non-tweet',0,1)\n",
    "viz"
   ]
  },
  {
   "cell_type": "code",
   "execution_count": 43,
   "id": "9fa72027",
   "metadata": {},
   "outputs": [],
   "source": [
    "viz.to_csv(\"visualization.csv\",index=False)"
   ]
  },
  {
   "cell_type": "code",
   "execution_count": null,
   "id": "3e0d6ba2",
   "metadata": {},
   "outputs": [],
   "source": []
  }
 ],
 "metadata": {
  "kernelspec": {
   "display_name": "Python 3",
   "language": "python",
   "name": "python3"
  },
  "language_info": {
   "codemirror_mode": {
    "name": "ipython",
    "version": 3
   },
   "file_extension": ".py",
   "mimetype": "text/x-python",
   "name": "python",
   "nbconvert_exporter": "python",
   "pygments_lexer": "ipython3",
   "version": "3.8.8"
  },
  "toc": {
   "base_numbering": 1,
   "nav_menu": {},
   "number_sections": false,
   "sideBar": true,
   "skip_h1_title": false,
   "title_cell": "Table of Contents",
   "title_sidebar": "Contents",
   "toc_cell": false,
   "toc_position": {
    "height": "calc(100% - 180px)",
    "left": "10px",
    "top": "150px",
    "width": "210.9510955810547px"
   },
   "toc_section_display": true,
   "toc_window_display": true
  }
 },
 "nbformat": 4,
 "nbformat_minor": 5
}
