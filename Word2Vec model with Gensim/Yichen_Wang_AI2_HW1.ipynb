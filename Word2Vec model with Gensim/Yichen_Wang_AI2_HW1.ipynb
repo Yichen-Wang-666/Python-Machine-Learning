{
  "nbformat": 4,
  "nbformat_minor": 0,
  "metadata": {
    "colab": {
      "name": "Yichen Wang AI2 HW1",
      "provenance": [],
      "collapsed_sections": []
    },
    "kernelspec": {
      "name": "python3",
      "display_name": "Python 3"
    },
    "language_info": {
      "name": "python"
    }
  },
  "cells": [
    {
      "cell_type": "markdown",
      "metadata": {
        "id": "hhg2ldaoPzA5"
      },
      "source": [
        "# Homework 1\n",
        "Train a word2vec model using gensim. [This article](https://kavita-ganesan.com/gensim-word2vec-tutorial-starter-code/#.YIc63H1KjUI) can provide a straightforward way for building a model simply with gensim.\n",
        "\n",
        "After the model is built, take 20 words are random and plot them using ```tsnescatterplot()```. You can reuse the code we went through in class."
      ]
    },
    {
      "cell_type": "code",
      "metadata": {
        "colab": {
          "base_uri": "https://localhost:8080/"
        },
        "id": "G_Bkf_wrMgfs",
        "outputId": "38146d94-9b5e-40b1-957e-555332491813"
      },
      "source": [
        "!wget https://storage.googleapis.com/nicksdemobucket/shakespeare.txt"
      ],
      "execution_count": 1,
      "outputs": [
        {
          "output_type": "stream",
          "name": "stdout",
          "text": [
            "--2022-05-03 18:30:47--  https://storage.googleapis.com/nicksdemobucket/shakespeare.txt\n",
            "Resolving storage.googleapis.com (storage.googleapis.com)... 142.250.145.128, 74.125.143.128, 173.194.69.128, ...\n",
            "Connecting to storage.googleapis.com (storage.googleapis.com)|142.250.145.128|:443... connected.\n",
            "HTTP request sent, awaiting response... 200 OK\n",
            "Length: 1115394 (1.1M) [text/plain]\n",
            "Saving to: ‘shakespeare.txt’\n",
            "\n",
            "shakespeare.txt     100%[===================>]   1.06M  --.-KB/s    in 0.01s   \n",
            "\n",
            "2022-05-03 18:30:48 (94.5 MB/s) - ‘shakespeare.txt’ saved [1115394/1115394]\n",
            "\n"
          ]
        }
      ]
    },
    {
      "cell_type": "code",
      "metadata": {
        "id": "Euvqg2b2R1lC"
      },
      "source": [
        "with open('shakespeare.txt', 'r') as file:\n",
        "    shakespeare_text = file.read().replace('\\n', ' ')"
      ],
      "execution_count": 2,
      "outputs": []
    },
    {
      "cell_type": "code",
      "metadata": {
        "colab": {
          "base_uri": "https://localhost:8080/"
        },
        "id": "uxKRSFJNRfBU",
        "outputId": "861f77c3-3493-4761-805c-d5162abbdd8c"
      },
      "source": [
        "print(shakespeare_text[:150])"
      ],
      "execution_count": 17,
      "outputs": [
        {
          "output_type": "stream",
          "name": "stdout",
          "text": [
            "First Citizen: Before we proceed any further, hear me speak.  All: Speak, speak.  First Citizen: You are all resolved rather to die than to famish?  A\n"
          ]
        }
      ]
    },
    {
      "cell_type": "code",
      "metadata": {
        "id": "LI-0MjmySA_1",
        "colab": {
          "base_uri": "https://localhost:8080/"
        },
        "outputId": "c72839ce-76ce-4bdb-cf75-657266f4b9e7"
      },
      "source": [
        "import pandas as pd\n",
        "import matplotlib.pyplot as plt\n",
        "%matplotlib notebook\n",
        "import numpy as np\n",
        "import seaborn as sns\n",
        "import warnings\n",
        "warnings.filterwarnings('ignore')\n",
        "import re  # For preprocessing\n",
        "import pandas as pd  # For data handling\n",
        "from time import time  # To time our operations\n",
        "from collections import defaultdict  # For word frequency\n",
        "\n",
        "import spacy  # For preprocessing\n",
        "from gensim.models import Word2Vec\n",
        "import logging  # Setting up the loggings to monitor gensim\n",
        "logging.basicConfig(format=\"%(levelname)s - %(asctime)s: %(message)s\", datefmt= '%H:%M:%S', level=logging.INFO)\n",
        "from sklearn.manifold import TSNE\n",
        "from numpy import dot\n",
        "from numpy.linalg import norm"
      ],
      "execution_count": 16,
      "outputs": [
        {
          "output_type": "stream",
          "name": "stderr",
          "text": [
            "2022-05-03 18:53:50,945 : INFO : NumExpr defaulting to 2 threads.\n"
          ]
        }
      ]
    },
    {
      "cell_type": "markdown",
      "source": [
        "# DATASET"
      ],
      "metadata": {
        "id": "-MAJ77vzMb9y"
      }
    },
    {
      "cell_type": "code",
      "source": [
        "import nltk\n",
        "nltk.download(\"punkt\")\n",
        "from nltk import tokenize\n",
        "word_list = tokenize.sent_tokenize(shakespeare_text)"
      ],
      "metadata": {
        "colab": {
          "base_uri": "https://localhost:8080/"
        },
        "id": "CUh14qhoMSgZ",
        "outputId": "bb7c0efc-f486-4773-a09d-a9be32bc54c2"
      },
      "execution_count": 19,
      "outputs": [
        {
          "output_type": "stream",
          "name": "stdout",
          "text": [
            "[nltk_data] Downloading package punkt to /root/nltk_data...\n",
            "[nltk_data]   Unzipping tokenizers/punkt.zip.\n"
          ]
        }
      ]
    },
    {
      "cell_type": "code",
      "source": [
        "len(word_list)"
      ],
      "metadata": {
        "colab": {
          "base_uri": "https://localhost:8080/"
        },
        "id": "MxQsMFmQZS29",
        "outputId": "2b3d87db-15ec-43e5-dfec-19c2fcb588d9"
      },
      "execution_count": 21,
      "outputs": [
        {
          "output_type": "execute_result",
          "data": {
            "text/plain": [
              "12460"
            ]
          },
          "metadata": {},
          "execution_count": 21
        }
      ]
    },
    {
      "cell_type": "code",
      "source": [
        "from nltk.tokenize import word_tokenize\n",
        "from nltk.corpus import stopwords\n",
        "from nltk.tokenize import RegexpTokenizer\n",
        "\n",
        "stop_words = set(stopwords.words('english'))\n",
        "tokenizer = RegexpTokenizer(r'\\w+')\n",
        "\n",
        "final = []\n",
        "for i in range(len(word_list)):\n",
        "  temp = tokenizer.tokenize(word_list[i])\n",
        "  filtered = [w for w in temp if not w.lower() in stop_words]\n",
        "  final.append(filtered)"
      ],
      "metadata": {
        "id": "q0DBXkgkM0fT"
      },
      "execution_count": 31,
      "outputs": []
    },
    {
      "cell_type": "code",
      "source": [
        "# build vocabulary and train model\n",
        "model = gensim.models.Word2Vec(\n",
        "        final,\n",
        "        size=150,\n",
        "        window=10,\n",
        "        min_count=2,\n",
        "        workers=10,\n",
        "        iter=10)"
      ],
      "metadata": {
        "colab": {
          "base_uri": "https://localhost:8080/"
        },
        "id": "IqOGy1XETk1I",
        "outputId": "5d939e7e-3239-46f3-df5c-a86fe5ba456a"
      },
      "execution_count": 33,
      "outputs": [
        {
          "output_type": "stream",
          "name": "stderr",
          "text": [
            "2022-05-03 19:49:11,155 : WARNING : consider setting layer size to a multiple of 4 for greater performance\n",
            "2022-05-03 19:49:11,158 : INFO : collecting all words and their counts\n",
            "2022-05-03 19:49:11,159 : INFO : PROGRESS: at sentence #0, processed 0 words, keeping 0 word types\n",
            "2022-05-03 19:49:11,185 : INFO : PROGRESS: at sentence #10000, processed 88761 words, keeping 11720 word types\n",
            "2022-05-03 19:49:11,192 : INFO : collected 13068 word types from a corpus of 107249 raw words and 12460 sentences\n",
            "2022-05-03 19:49:11,193 : INFO : Loading a fresh vocabulary\n",
            "2022-05-03 19:49:11,210 : INFO : effective_min_count=2 retains 7032 unique words (53% of original 13068, drops 6036)\n",
            "2022-05-03 19:49:11,211 : INFO : effective_min_count=2 leaves 101213 word corpus (94% of original 107249, drops 6036)\n",
            "2022-05-03 19:49:11,235 : INFO : deleting the raw counts dictionary of 13068 items\n",
            "2022-05-03 19:49:11,236 : INFO : sample=0.001 downsamples 36 most-common words\n",
            "2022-05-03 19:49:11,238 : INFO : downsampling leaves estimated 96918 word corpus (95.8% of prior 101213)\n",
            "2022-05-03 19:49:11,256 : INFO : estimated required memory for 7032 words and 150 dimensions: 11954400 bytes\n",
            "2022-05-03 19:49:11,258 : INFO : resetting layer weights\n",
            "2022-05-03 19:49:12,511 : INFO : training model with 10 workers on 7032 vocabulary and 150 features, using sg=0 hs=0 sample=0.001 negative=5 window=10\n",
            "2022-05-03 19:49:12,653 : INFO : worker thread finished; awaiting finish of 9 more threads\n",
            "2022-05-03 19:49:12,660 : INFO : worker thread finished; awaiting finish of 8 more threads\n",
            "2022-05-03 19:49:12,665 : INFO : worker thread finished; awaiting finish of 7 more threads\n",
            "2022-05-03 19:49:12,671 : INFO : worker thread finished; awaiting finish of 6 more threads\n",
            "2022-05-03 19:49:12,684 : INFO : worker thread finished; awaiting finish of 5 more threads\n",
            "2022-05-03 19:49:12,687 : INFO : worker thread finished; awaiting finish of 4 more threads\n",
            "2022-05-03 19:49:12,692 : INFO : worker thread finished; awaiting finish of 3 more threads\n",
            "2022-05-03 19:49:12,697 : INFO : worker thread finished; awaiting finish of 2 more threads\n",
            "2022-05-03 19:49:12,699 : INFO : worker thread finished; awaiting finish of 1 more threads\n",
            "2022-05-03 19:49:12,700 : INFO : worker thread finished; awaiting finish of 0 more threads\n",
            "2022-05-03 19:49:12,702 : INFO : EPOCH - 1 : training on 107249 raw words (96893 effective words) took 0.2s, 538610 effective words/s\n",
            "2022-05-03 19:49:12,836 : INFO : worker thread finished; awaiting finish of 9 more threads\n",
            "2022-05-03 19:49:12,842 : INFO : worker thread finished; awaiting finish of 8 more threads\n",
            "2022-05-03 19:49:12,852 : INFO : worker thread finished; awaiting finish of 7 more threads\n",
            "2022-05-03 19:49:12,854 : INFO : worker thread finished; awaiting finish of 6 more threads\n",
            "2022-05-03 19:49:12,872 : INFO : worker thread finished; awaiting finish of 5 more threads\n",
            "2022-05-03 19:49:12,877 : INFO : worker thread finished; awaiting finish of 4 more threads\n",
            "2022-05-03 19:49:12,881 : INFO : worker thread finished; awaiting finish of 3 more threads\n",
            "2022-05-03 19:49:12,889 : INFO : worker thread finished; awaiting finish of 2 more threads\n",
            "2022-05-03 19:49:12,893 : INFO : worker thread finished; awaiting finish of 1 more threads\n",
            "2022-05-03 19:49:12,897 : INFO : worker thread finished; awaiting finish of 0 more threads\n",
            "2022-05-03 19:49:12,898 : INFO : EPOCH - 2 : training on 107249 raw words (96931 effective words) took 0.2s, 532400 effective words/s\n",
            "2022-05-03 19:49:13,043 : INFO : worker thread finished; awaiting finish of 9 more threads\n",
            "2022-05-03 19:49:13,053 : INFO : worker thread finished; awaiting finish of 8 more threads\n",
            "2022-05-03 19:49:13,056 : INFO : worker thread finished; awaiting finish of 7 more threads\n",
            "2022-05-03 19:49:13,058 : INFO : worker thread finished; awaiting finish of 6 more threads\n",
            "2022-05-03 19:49:13,074 : INFO : worker thread finished; awaiting finish of 5 more threads\n",
            "2022-05-03 19:49:13,076 : INFO : worker thread finished; awaiting finish of 4 more threads\n",
            "2022-05-03 19:49:13,082 : INFO : worker thread finished; awaiting finish of 3 more threads\n",
            "2022-05-03 19:49:13,084 : INFO : worker thread finished; awaiting finish of 2 more threads\n",
            "2022-05-03 19:49:13,086 : INFO : worker thread finished; awaiting finish of 1 more threads\n",
            "2022-05-03 19:49:13,089 : INFO : worker thread finished; awaiting finish of 0 more threads\n",
            "2022-05-03 19:49:13,091 : INFO : EPOCH - 3 : training on 107249 raw words (96957 effective words) took 0.2s, 540147 effective words/s\n",
            "2022-05-03 19:49:13,215 : INFO : worker thread finished; awaiting finish of 9 more threads\n",
            "2022-05-03 19:49:13,224 : INFO : worker thread finished; awaiting finish of 8 more threads\n",
            "2022-05-03 19:49:13,232 : INFO : worker thread finished; awaiting finish of 7 more threads\n",
            "2022-05-03 19:49:13,242 : INFO : worker thread finished; awaiting finish of 6 more threads\n",
            "2022-05-03 19:49:13,248 : INFO : worker thread finished; awaiting finish of 5 more threads\n",
            "2022-05-03 19:49:13,255 : INFO : worker thread finished; awaiting finish of 4 more threads\n",
            "2022-05-03 19:49:13,256 : INFO : worker thread finished; awaiting finish of 3 more threads\n",
            "2022-05-03 19:49:13,263 : INFO : worker thread finished; awaiting finish of 2 more threads\n",
            "2022-05-03 19:49:13,266 : INFO : worker thread finished; awaiting finish of 1 more threads\n",
            "2022-05-03 19:49:13,268 : INFO : worker thread finished; awaiting finish of 0 more threads\n",
            "2022-05-03 19:49:13,268 : INFO : EPOCH - 4 : training on 107249 raw words (96904 effective words) took 0.2s, 599163 effective words/s\n",
            "2022-05-03 19:49:13,365 : INFO : worker thread finished; awaiting finish of 9 more threads\n",
            "2022-05-03 19:49:13,400 : INFO : worker thread finished; awaiting finish of 8 more threads\n",
            "2022-05-03 19:49:13,406 : INFO : worker thread finished; awaiting finish of 7 more threads\n",
            "2022-05-03 19:49:13,417 : INFO : worker thread finished; awaiting finish of 6 more threads\n",
            "2022-05-03 19:49:13,438 : INFO : worker thread finished; awaiting finish of 5 more threads\n",
            "2022-05-03 19:49:13,443 : INFO : worker thread finished; awaiting finish of 4 more threads\n",
            "2022-05-03 19:49:13,447 : INFO : worker thread finished; awaiting finish of 3 more threads\n",
            "2022-05-03 19:49:13,447 : INFO : worker thread finished; awaiting finish of 2 more threads\n",
            "2022-05-03 19:49:13,448 : INFO : worker thread finished; awaiting finish of 1 more threads\n",
            "2022-05-03 19:49:13,452 : INFO : worker thread finished; awaiting finish of 0 more threads\n",
            "2022-05-03 19:49:13,453 : INFO : EPOCH - 5 : training on 107249 raw words (96978 effective words) took 0.2s, 562400 effective words/s\n",
            "2022-05-03 19:49:13,592 : INFO : worker thread finished; awaiting finish of 9 more threads\n",
            "2022-05-03 19:49:13,623 : INFO : worker thread finished; awaiting finish of 8 more threads\n",
            "2022-05-03 19:49:13,625 : INFO : worker thread finished; awaiting finish of 7 more threads\n",
            "2022-05-03 19:49:13,628 : INFO : worker thread finished; awaiting finish of 6 more threads\n",
            "2022-05-03 19:49:13,630 : INFO : worker thread finished; awaiting finish of 5 more threads\n",
            "2022-05-03 19:49:13,632 : INFO : worker thread finished; awaiting finish of 4 more threads\n",
            "2022-05-03 19:49:13,638 : INFO : worker thread finished; awaiting finish of 3 more threads\n",
            "2022-05-03 19:49:13,641 : INFO : worker thread finished; awaiting finish of 2 more threads\n",
            "2022-05-03 19:49:13,642 : INFO : worker thread finished; awaiting finish of 1 more threads\n",
            "2022-05-03 19:49:13,645 : INFO : worker thread finished; awaiting finish of 0 more threads\n",
            "2022-05-03 19:49:13,647 : INFO : EPOCH - 6 : training on 107249 raw words (96940 effective words) took 0.2s, 540963 effective words/s\n",
            "2022-05-03 19:49:13,794 : INFO : worker thread finished; awaiting finish of 9 more threads\n",
            "2022-05-03 19:49:13,799 : INFO : worker thread finished; awaiting finish of 8 more threads\n",
            "2022-05-03 19:49:13,802 : INFO : worker thread finished; awaiting finish of 7 more threads\n",
            "2022-05-03 19:49:13,804 : INFO : worker thread finished; awaiting finish of 6 more threads\n",
            "2022-05-03 19:49:13,813 : INFO : worker thread finished; awaiting finish of 5 more threads\n",
            "2022-05-03 19:49:13,828 : INFO : worker thread finished; awaiting finish of 4 more threads\n",
            "2022-05-03 19:49:13,834 : INFO : worker thread finished; awaiting finish of 3 more threads\n",
            "2022-05-03 19:49:13,837 : INFO : worker thread finished; awaiting finish of 2 more threads\n",
            "2022-05-03 19:49:13,839 : INFO : worker thread finished; awaiting finish of 1 more threads\n",
            "2022-05-03 19:49:13,842 : INFO : worker thread finished; awaiting finish of 0 more threads\n",
            "2022-05-03 19:49:13,843 : INFO : EPOCH - 7 : training on 107249 raw words (96915 effective words) took 0.2s, 544282 effective words/s\n",
            "2022-05-03 19:49:13,966 : INFO : worker thread finished; awaiting finish of 9 more threads\n",
            "2022-05-03 19:49:13,973 : INFO : worker thread finished; awaiting finish of 8 more threads\n",
            "2022-05-03 19:49:13,992 : INFO : worker thread finished; awaiting finish of 7 more threads\n",
            "2022-05-03 19:49:14,003 : INFO : worker thread finished; awaiting finish of 6 more threads\n",
            "2022-05-03 19:49:14,007 : INFO : worker thread finished; awaiting finish of 5 more threads\n",
            "2022-05-03 19:49:14,017 : INFO : worker thread finished; awaiting finish of 4 more threads\n",
            "2022-05-03 19:49:14,019 : INFO : worker thread finished; awaiting finish of 3 more threads\n",
            "2022-05-03 19:49:14,020 : INFO : worker thread finished; awaiting finish of 2 more threads\n",
            "2022-05-03 19:49:14,023 : INFO : worker thread finished; awaiting finish of 1 more threads\n",
            "2022-05-03 19:49:14,029 : INFO : worker thread finished; awaiting finish of 0 more threads\n",
            "2022-05-03 19:49:14,030 : INFO : EPOCH - 8 : training on 107249 raw words (96957 effective words) took 0.2s, 555885 effective words/s\n",
            "2022-05-03 19:49:14,169 : INFO : worker thread finished; awaiting finish of 9 more threads\n",
            "2022-05-03 19:49:14,179 : INFO : worker thread finished; awaiting finish of 8 more threads\n",
            "2022-05-03 19:49:14,184 : INFO : worker thread finished; awaiting finish of 7 more threads\n",
            "2022-05-03 19:49:14,187 : INFO : worker thread finished; awaiting finish of 6 more threads\n",
            "2022-05-03 19:49:14,189 : INFO : worker thread finished; awaiting finish of 5 more threads\n",
            "2022-05-03 19:49:14,198 : INFO : worker thread finished; awaiting finish of 4 more threads\n",
            "2022-05-03 19:49:14,204 : INFO : worker thread finished; awaiting finish of 3 more threads\n",
            "2022-05-03 19:49:14,206 : INFO : worker thread finished; awaiting finish of 2 more threads\n",
            "2022-05-03 19:49:14,207 : INFO : worker thread finished; awaiting finish of 1 more threads\n",
            "2022-05-03 19:49:14,208 : INFO : worker thread finished; awaiting finish of 0 more threads\n",
            "2022-05-03 19:49:14,209 : INFO : EPOCH - 9 : training on 107249 raw words (96958 effective words) took 0.2s, 578211 effective words/s\n",
            "2022-05-03 19:49:14,351 : INFO : worker thread finished; awaiting finish of 9 more threads\n",
            "2022-05-03 19:49:14,353 : INFO : worker thread finished; awaiting finish of 8 more threads\n",
            "2022-05-03 19:49:14,356 : INFO : worker thread finished; awaiting finish of 7 more threads\n",
            "2022-05-03 19:49:14,360 : INFO : worker thread finished; awaiting finish of 6 more threads\n",
            "2022-05-03 19:49:14,374 : INFO : worker thread finished; awaiting finish of 5 more threads\n",
            "2022-05-03 19:49:14,393 : INFO : worker thread finished; awaiting finish of 4 more threads\n",
            "2022-05-03 19:49:14,399 : INFO : worker thread finished; awaiting finish of 3 more threads\n",
            "2022-05-03 19:49:14,403 : INFO : worker thread finished; awaiting finish of 2 more threads\n",
            "2022-05-03 19:49:14,408 : INFO : worker thread finished; awaiting finish of 1 more threads\n",
            "2022-05-03 19:49:14,409 : INFO : worker thread finished; awaiting finish of 0 more threads\n",
            "2022-05-03 19:49:14,412 : INFO : EPOCH - 10 : training on 107249 raw words (96963 effective words) took 0.2s, 548772 effective words/s\n",
            "2022-05-03 19:49:14,418 : INFO : training on a 1072490 raw words (969396 effective words) took 1.9s, 508654 effective words/s\n"
          ]
        }
      ]
    },
    {
      "cell_type": "code",
      "source": [
        "w1 = \"man\"\n",
        "model.wv.most_similar(positive=w1)"
      ],
      "metadata": {
        "colab": {
          "base_uri": "https://localhost:8080/"
        },
        "id": "Ek3gpDaweFFx",
        "outputId": "ee5dbd2d-e1cf-4bc5-8a19-547d5d048733"
      },
      "execution_count": 38,
      "outputs": [
        {
          "output_type": "execute_result",
          "data": {
            "text/plain": [
              "[('think', 0.9977723956108093),\n",
              " ('wipe', 0.9973871111869812),\n",
              " ('ne', 0.9971585869789124),\n",
              " ('see', 0.9970113039016724),\n",
              " ('rich', 0.9969277381896973),\n",
              " ('haunt', 0.9968494772911072),\n",
              " ('word', 0.9966139197349548),\n",
              " ('world', 0.996541440486908),\n",
              " ('drunk', 0.9964993596076965),\n",
              " ('bed', 0.9964473247528076)]"
            ]
          },
          "metadata": {},
          "execution_count": 38
        }
      ]
    },
    {
      "cell_type": "code",
      "source": [
        "import numpy as np\n",
        "import matplotlib.pyplot as plt\n",
        "%matplotlib inline\n",
        " \n",
        "import seaborn as sns\n",
        "sns.set_style(\"darkgrid\")\n",
        "\n",
        "from sklearn.decomposition import PCA\n",
        "from sklearn.manifold import TSNE"
      ],
      "metadata": {
        "id": "8s59EthwfUu6"
      },
      "execution_count": 39,
      "outputs": []
    },
    {
      "cell_type": "code",
      "source": [
        "def tsnescatterplot(model, word, list_names):\n",
        "    \"\"\" Plot in seaborn the results from the t-SNE dimensionality reduction algorithm of the vectors of a query word,\n",
        "    its list of most similar words, and a list of words.\n",
        "    \"\"\"\n",
        "    arrays = np.empty((0, 150), dtype='f')\n",
        "    word_labels = [word]\n",
        "    color_list  = ['red']\n",
        "\n",
        "    # adds the vector of the query word\n",
        "    arrays = np.append(arrays, model.wv.__getitem__([word]), axis=0)\n",
        "    \n",
        "    # gets list of most similar words\n",
        "    close_words = model.wv.most_similar([word])\n",
        "    \n",
        "    # adds the vector for each of the closest words to the array\n",
        "    for wrd_score in close_words:\n",
        "        wrd_vector = model.wv.__getitem__([wrd_score[0]])\n",
        "        word_labels.append(wrd_score[0])\n",
        "        color_list.append('blue')\n",
        "        arrays = np.append(arrays, wrd_vector, axis=0)\n",
        "    \n",
        "    # adds the vector for each of the words from list_names to the array\n",
        "    for wrd in list_names:\n",
        "        wrd_vector = model.wv.__getitem__([wrd])\n",
        "        word_labels.append(wrd)\n",
        "        color_list.append('green')\n",
        "        arrays = np.append(arrays, wrd_vector, axis=0)\n",
        "        \n",
        "    # Reduces the dimensionality from 300 to 50 dimensions with PCA\n",
        "    reduc = PCA(n_components=19).fit_transform(arrays)\n",
        "    \n",
        "    # Finds t-SNE coordinates for 2 dimensions\n",
        "    np.set_printoptions(suppress=True)\n",
        "    \n",
        "    Y = TSNE(n_components=2, random_state=0, perplexity=15).fit_transform(reduc)\n",
        "    \n",
        "    # Sets everything up to plot\n",
        "    df = pd.DataFrame({'x': [x for x in Y[:, 0]],\n",
        "                       'y': [y for y in Y[:, 1]],\n",
        "                       'words': word_labels,\n",
        "                       'color': color_list})\n",
        "    \n",
        "    fig, _ = plt.subplots()\n",
        "    fig.set_size_inches(9, 9)\n",
        "    \n",
        "    # Basic plot\n",
        "    p1 = sns.regplot(data=df,\n",
        "                     x=\"x\",\n",
        "                     y=\"y\",\n",
        "                     fit_reg=False,\n",
        "                     marker=\"o\",\n",
        "                     scatter_kws={'s': 40,\n",
        "                                  'facecolors': df['color']\n",
        "                                 }\n",
        "                    )\n",
        "    \n",
        "    # Adds annotations one by one with a loop\n",
        "    for line in range(0, df.shape[0]):\n",
        "         p1.text(df[\"x\"][line],\n",
        "                 df['y'][line],\n",
        "                 '  ' + df[\"words\"][line].title(),\n",
        "                 horizontalalignment='left',\n",
        "                 verticalalignment='bottom', size='medium',\n",
        "                 color=df['color'][line],\n",
        "                 weight='normal'\n",
        "                ).set_size(15)\n",
        "\n",
        "    \n",
        "    plt.xlim(Y[:, 0].min()-50, Y[:, 0].max()+50)\n",
        "    plt.ylim(Y[:, 1].min()-50, Y[:, 1].max()+50)\n",
        "            \n",
        "    plt.title('t-SNE visualization for {}'.format(word.title()))"
      ],
      "metadata": {
        "id": "Ua7E2q1rfZlO"
      },
      "execution_count": 46,
      "outputs": []
    },
    {
      "cell_type": "code",
      "source": [
        "random = [\"music\",\"death\",\"dog\",\"man\",\"light\",\"drink\",\n",
        "          \"lead\",\"knowledge\",\"horror\",\"demand\",\"clock\",\n",
        "          \"sleep\",\"heart\",\"bubble\",\"glass\",\"function\",\n",
        "          \"price\",\"knife\",\"table\",\"book\",\"war\"]\n"
      ],
      "metadata": {
        "id": "SM_S00CIfqGU"
      },
      "execution_count": 58,
      "outputs": []
    },
    {
      "cell_type": "code",
      "source": [
        "tsnescatterplot(model, 'anything',random)"
      ],
      "metadata": {
        "colab": {
          "base_uri": "https://localhost:8080/",
          "height": 567
        },
        "id": "gxRZTE-ngmgp",
        "outputId": "7aeb7a51-fb3a-4d75-b681-3c6ac7125c41"
      },
      "execution_count": 59,
      "outputs": [
        {
          "output_type": "display_data",
          "data": {
            "text/plain": [
              "<Figure size 648x648 with 1 Axes>"
            ],
            "image/png": "[encoded data removed]"
          },
          "metadata": {}
        }
      ]
    }
  ]
}