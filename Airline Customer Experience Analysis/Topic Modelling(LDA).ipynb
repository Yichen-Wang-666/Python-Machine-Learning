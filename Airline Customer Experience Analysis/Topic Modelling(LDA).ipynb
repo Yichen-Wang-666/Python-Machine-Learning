{
 "cells": [
  {
   "cell_type": "code",
   "execution_count": 8,
   "id": "c502dfae",
   "metadata": {
    "scrolled": true
   },
   "outputs": [
    {
     "name": "stderr",
     "output_type": "stream",
     "text": [
      "[nltk_data] Downloading package stopwords to\n",
      "[nltk_data]     /Users/ziyezhang/nltk_data...\n",
      "[nltk_data]   Package stopwords is already up-to-date!\n",
      "[nltk_data] Downloading package wordnet to\n",
      "[nltk_data]     /Users/ziyezhang/nltk_data...\n",
      "[nltk_data]   Package wordnet is already up-to-date!\n"
     ]
    }
   ],
   "source": [
    "#!/usr/bin/env python3.0\n",
    "\n",
    "import nltk\n",
    "nltk.download('stopwords')\n",
    "nltk.download('wordnet')\n",
    "import lda\n",
    "import pandas as pd\n",
    "from nltk.tokenize import PunktSentenceTokenizer, RegexpTokenizer\n",
    "from nltk.corpus import stopwords\n",
    "from nltk.stem import WordNetLemmatizer\n",
    "from sklearn.feature_extraction.text import CountVectorizer"
   ]
  },
  {
   "cell_type": "code",
   "execution_count": 14,
   "id": "f21d38cc",
   "metadata": {},
   "outputs": [
    {
     "data": {
      "text/plain": [
       "Index(['Airline', 'Review'], dtype='object')"
      ]
     },
     "execution_count": 14,
     "metadata": {},
     "output_type": "execute_result"
    }
   ],
   "source": [
    "# uses default alpha and beta values\n",
    "reviews_df=pd.read_csv(\"Airlines.csv\")\n",
    "reviews_df.columns"
   ]
  },
  {
   "cell_type": "code",
   "execution_count": 15,
   "id": "4338f332",
   "metadata": {},
   "outputs": [
    {
     "name": "stdout",
     "output_type": "stream",
     "text": [
      "Number of rows with any of the empty columns:\n",
      "0\n",
      "provide the column name for airline names: Airline\n",
      "provide the column name for airline reviews: Review\n",
      "Provide the number of latent topics to be estimated: 3\n"
     ]
    }
   ],
   "source": [
    "#checking for nulls if present any\n",
    "print(\"Number of rows with any of the empty columns:\")\n",
    "print(reviews_df.isnull().sum().sum())\n",
    "reviews_df=reviews_df.dropna()\n",
    "\n",
    "restaurant_name = input('provide the column name for airline names: ')\n",
    "restaurant_review = input('provide the column name for airline reviews: ')\n",
    "ntopics= input('Provide the number of latent topics to be estimated: ')"
   ]
  },
  {
   "cell_type": "code",
   "execution_count": null,
   "id": "e80edf71",
   "metadata": {},
   "outputs": [],
   "source": []
  },
  {
   "cell_type": "code",
   "execution_count": 16,
   "id": "958a77b5",
   "metadata": {},
   "outputs": [
    {
     "name": "stderr",
     "output_type": "stream",
     "text": [
      "INFO:lda:n_documents: 20000\n",
      "INFO:lda:vocab_size: 27103\n",
      "INFO:lda:n_words: 1281361\n",
      "INFO:lda:n_topics: 3\n",
      "INFO:lda:n_iter: 500\n"
     ]
    },
    {
     "name": "stdout",
     "output_type": "stream",
     "text": [
      "(20000, 27103)\n"
     ]
    },
    {
     "name": "stderr",
     "output_type": "stream",
     "text": [
      "INFO:lda:<0> log likelihood: -11409588\n",
      "INFO:lda:<10> log likelihood: -10573603\n",
      "INFO:lda:<20> log likelihood: -10196496\n",
      "INFO:lda:<30> log likelihood: -10127750\n",
      "INFO:lda:<40> log likelihood: -10095816\n",
      "INFO:lda:<50> log likelihood: -10080873\n",
      "INFO:lda:<60> log likelihood: -10072138\n",
      "INFO:lda:<70> log likelihood: -10068163\n",
      "INFO:lda:<80> log likelihood: -10062923\n",
      "INFO:lda:<90> log likelihood: -10063088\n",
      "INFO:lda:<100> log likelihood: -10059124\n",
      "INFO:lda:<110> log likelihood: -10057919\n",
      "INFO:lda:<120> log likelihood: -10056937\n",
      "INFO:lda:<130> log likelihood: -10056168\n",
      "INFO:lda:<140> log likelihood: -10057440\n",
      "INFO:lda:<150> log likelihood: -10055975\n",
      "INFO:lda:<160> log likelihood: -10055902\n",
      "INFO:lda:<170> log likelihood: -10056352\n",
      "INFO:lda:<180> log likelihood: -10054174\n",
      "INFO:lda:<190> log likelihood: -10055681\n",
      "INFO:lda:<200> log likelihood: -10056050\n",
      "INFO:lda:<210> log likelihood: -10055784\n",
      "INFO:lda:<220> log likelihood: -10054052\n",
      "INFO:lda:<230> log likelihood: -10052616\n",
      "INFO:lda:<240> log likelihood: -10049990\n",
      "INFO:lda:<250> log likelihood: -10050155\n",
      "INFO:lda:<260> log likelihood: -10047599\n",
      "INFO:lda:<270> log likelihood: -10045981\n",
      "INFO:lda:<280> log likelihood: -10047412\n",
      "INFO:lda:<290> log likelihood: -10047040\n",
      "INFO:lda:<300> log likelihood: -10046417\n",
      "INFO:lda:<310> log likelihood: -10044353\n",
      "INFO:lda:<320> log likelihood: -10042574\n",
      "INFO:lda:<330> log likelihood: -10041188\n",
      "INFO:lda:<340> log likelihood: -10041018\n",
      "INFO:lda:<350> log likelihood: -10041821\n",
      "INFO:lda:<360> log likelihood: -10041048\n",
      "INFO:lda:<370> log likelihood: -10040322\n",
      "INFO:lda:<380> log likelihood: -10038806\n",
      "INFO:lda:<390> log likelihood: -10037860\n",
      "INFO:lda:<400> log likelihood: -10036549\n",
      "INFO:lda:<410> log likelihood: -10037499\n",
      "INFO:lda:<420> log likelihood: -10037675\n",
      "INFO:lda:<430> log likelihood: -10036576\n",
      "INFO:lda:<440> log likelihood: -10038242\n",
      "INFO:lda:<450> log likelihood: -10037899\n",
      "INFO:lda:<460> log likelihood: -10036352\n",
      "INFO:lda:<470> log likelihood: -10036203\n",
      "INFO:lda:<480> log likelihood: -10036056\n",
      "INFO:lda:<490> log likelihood: -10036011\n",
      "INFO:lda:<499> log likelihood: -10035633\n",
      "/opt/anaconda3/envs/capstone/lib/python3.9/site-packages/sklearn/utils/deprecation.py:87: FutureWarning: Function get_feature_names is deprecated; get_feature_names is deprecated in 1.0 and will be removed in 1.2. Please use get_feature_names_out instead.\n",
      "  warnings.warn(msg, category=FutureWarning)\n"
     ]
    }
   ],
   "source": [
    "word_tokenizer=RegexpTokenizer(r'\\w+')\n",
    "wordnet_lemmatizer = WordNetLemmatizer()\n",
    "stopwords_nltk=set(stopwords.words('english'))\n",
    "temp = reviews_df[restaurant_review]\n",
    "def tokenize_text(version_desc):\n",
    "    lowercase=version_desc.lower()\n",
    "    text = wordnet_lemmatizer.lemmatize(lowercase)\n",
    "    tokens = word_tokenizer.tokenize(text)\n",
    "    return tokens\n",
    "\n",
    "vec_words = CountVectorizer(tokenizer=tokenize_text,stop_words=stopwords_nltk,decode_error='ignore')\n",
    "total_features_words = vec_words.fit_transform(reviews_df[restaurant_review])\n",
    "\n",
    "print(total_features_words.shape)\n",
    "\n",
    "model = lda.LDA(n_topics=int(ntopics), n_iter=500, random_state=1)\n",
    "model.fit(total_features_words)\n",
    "\n",
    "topic_word = model.topic_word_\n",
    "doc_topic=model.doc_topic_\n",
    "doc_topic=pd.DataFrame(doc_topic)\n",
    "reviews_df=reviews_df.join(doc_topic)\n",
    "restaurant=pd.DataFrame()\n",
    "\n",
    "for i in range(int(ntopics)):\n",
    "    topic=\"topic_\"+str(i)\n",
    "    restaurant[topic]=reviews_df.groupby([restaurant_name])[i].mean()\n",
    "\n",
    "restaurant=restaurant.reset_index()\n",
    "topics=pd.DataFrame(topic_word)\n",
    "topics.columns=vec_words.get_feature_names()\n",
    "topics1=topics.transpose()\n",
    "topics1.to_excel(\"topic_word_dist.xlsx\")\n",
    "restaurant.to_excel(\"restaurant_topic_dist.xlsx\",index=False)"
   ]
  }
 ],
 "metadata": {
  "kernelspec": {
   "display_name": "Python 3 (ipykernel)",
   "language": "python",
   "name": "python3"
  },
  "language_info": {
   "codemirror_mode": {
    "name": "ipython",
    "version": 3
   },
   "file_extension": ".py",
   "mimetype": "text/x-python",
   "name": "python",
   "nbconvert_exporter": "python",
   "pygments_lexer": "ipython3",
   "version": "3.9.7"
  }
 },
 "nbformat": 4,
 "nbformat_minor": 5
}
