{
 "cells": [
  {
   "cell_type": "code",
   "execution_count": null,
   "id": "d37485cf",
   "metadata": {},
   "outputs": [],
   "source": [
    "import pandas as pd\n",
    "import numpy as np\n",
    "from tqdm import tqdm\n",
    "\n",
    "data1 = pd.read_csv('https://raw.githubusercontent.com/gabminamedez/spotify-data/master/data.csv')\n",
    "data1.to_csv('spotify_raw_data.csv')"
   ]
  },
  {
   "cell_type": "code",
   "execution_count": null,
   "id": "5002ab6d",
   "metadata": {},
   "outputs": [],
   "source": [
    "data2 = data1.drop(columns=['id','release_date'])\n",
    "data2.info()\n",
    "data2.describe()\n",
    "\n",
    "data2['NumArtists'] = pd.Series(dtype='int')\n",
    "for i in tqdm(range(data2.shape[0])):\n",
    "  string = data2['artists'][i]\n",
    "  string = string[1:len(string)-1]\n",
    "  string = string.split(',')\n",
    "  data2['NumArtists'][i] = int(len(string))\n",
    "\n",
    "data2['NameLength'] = pd.Series(dtype='int')\n",
    "for i in tqdm(range(data2.shape[0])):\n",
    "  n = len(data2['name'][i].split())\n",
    "  data2['NameLength'][i] = int(n)\n",
    "\n",
    "data = data2.drop(columns = ['name','artists'])\n",
    "\n",
    "data.drop_duplicates(inplace=True)\n",
    "data[data.duplicated()]\n",
    "\n",
    "\n",
    "data2.drop_duplicates(inplace=True)\n",
    "data2[data2.duplicated()]\n",
    "#save the processed data\n",
    "#data.to_csv('695_finalproject_data.csv')\n",
    "\n",
    "\n",
    "X = data2.drop(columns=['popularity','name','artists'])\n",
    "from sklearn.preprocessing import StandardScaler\n",
    "scaler = StandardScaler()\n",
    "X_std = scaler.fit_transform(X)"
   ]
  },
  {
   "cell_type": "code",
   "execution_count": null,
   "id": "0e5173a9",
   "metadata": {},
   "outputs": [],
   "source": [
    "### Elbow method to find optimal k"
   ]
  },
  {
   "cell_type": "code",
   "execution_count": null,
   "id": "4a81f994",
   "metadata": {},
   "outputs": [],
   "source": [
    "############use Elbow method to find optimal k##########\n",
    "from sklearn.cluster import KMeans\n",
    "from sklearn.metrics import silhouette_samples\n",
    "from sklearn.metrics import silhouette_score\n",
    "\n",
    "from tqdm import tqdm\n",
    "withinss = []\n",
    "results = []\n",
    "for i in tqdm(range(2,8)):\n",
    "    kmeans = KMeans(n_clusters = i)\n",
    "    model = kmeans.fit(X_std)\n",
    "    labels = model.labels_\n",
    "    withinss.append(model.inertia_)\n",
    "    results.append(silhouette_score(X_std, labels))\n",
    "    \n"
   ]
  },
  {
   "cell_type": "code",
   "execution_count": null,
   "id": "3aa31534",
   "metadata": {},
   "outputs": [],
   "source": [
    "from matplotlib import pyplot\n",
    "print(\"Hi, please run the following two lines sepearately!!!!!!!  ;)\")\n",
    "#1\n",
    "pyplot.plot([2,3,4,5,6,7],withinss)"
   ]
  },
  {
   "cell_type": "code",
   "execution_count": null,
   "id": "e849d3e0",
   "metadata": {},
   "outputs": [],
   "source": [
    "#2\n",
    "pyplot.plot([2,3,4,5,6,7],results) "
   ]
  },
  {
   "cell_type": "code",
   "execution_count": null,
   "id": "c067cf1e",
   "metadata": {},
   "outputs": [],
   "source": [
    "#use selected features to build k-Means model\n",
    "from sklearn.cluster import KMeans\n",
    "kmeans = KMeans(n_clusters = 3)\n",
    "model = kmeans.fit(X_std)\n",
    "labels = model.labels_\n",
    "labels\n",
    "\n",
    "from sklearn.metrics import silhouette_samples\n",
    "silhouette_samples(X_std, labels)\n",
    "\n",
    "from sklearn.metrics import silhouette_score\n",
    "silhouette_score(X_std, labels)\n"
   ]
  },
  {
   "cell_type": "code",
   "execution_count": null,
   "id": "84acf424",
   "metadata": {},
   "outputs": [],
   "source": [
    "#build a KMEANS with clusters = 8, so we can have more business insights\n",
    "from sklearn.cluster import KMeans\n",
    "kmeans = KMeans(n_clusters = 8)\n",
    "model = kmeans.fit(X_std)\n",
    "labels = model.labels_\n",
    "labels\n",
    "\n",
    "data2['Cluster'] = model.labels_"
   ]
  },
  {
   "cell_type": "code",
   "execution_count": null,
   "id": "f0906db0",
   "metadata": {},
   "outputs": [],
   "source": [
    "#visualize the cluster result using a radar plot\n",
    "#import plotly as plt\n",
    "centers = model.cluster_centers_\n",
    "col_names = X.columns.tolist()\n",
    "cluster_result = pd.DataFrame(centers, columns =col_names) \n",
    "cluster_result_copy = cluster_result.copy()\n",
    "cluster_result_copy = cluster_result_copy.drop(columns = ['year','key','NumArtists','mode','NameLength'])\n",
    "#visualization of our clustering\n",
    "import plotly.express as px\n",
    "import plotly.graph_objects as go\n",
    "\n",
    "\n",
    "import matplotlib.pyplot as plt\n",
    "import numpy as np\n",
    "categories = cluster_result_copy.columns.tolist()\n",
    "\n",
    "cluster_1 = cluster_result_copy.iloc[0].tolist()\n",
    "cluster_2 = cluster_result_copy.iloc[1].tolist()\n",
    "cluster_3 = cluster_result_copy.iloc[2].tolist()\n",
    "cluster_4 = cluster_result_copy.iloc[3].tolist()\n",
    "cluster_5 = cluster_result_copy.iloc[4].tolist()\n",
    "cluster_6 = cluster_result_copy.iloc[5].tolist()\n",
    "cluster_7 = cluster_result_copy.iloc[6].tolist()\n",
    "cluster_8 = cluster_result_copy.iloc[7].tolist()\n",
    "\n",
    "label_loc = np.linspace(start=0, stop=2 * np.pi, num=len(cluster_1))\n",
    "plt.figure(figsize=(8, 8))\n",
    "plt.subplot(polar=True)\n",
    "plt.plot(label_loc, cluster_1, label='cluster 1') #liveness + energy + tempo = workout \n",
    "plt.plot(label_loc, cluster_2, label='cluster 2') #loudness + energy + danceability = party \n",
    "plt.plot(label_loc, cluster_3, label='cluster 3') #loudness + energy + danceability = party \n",
    "plt.plot(label_loc, cluster_4, label='cluster 4')  #speechiness + duration = Rap \n",
    "plt.plot(label_loc, cluster_5, label='cluster 5') #instrumental + acousticness = Folk & Acoustic  \n",
    "plt.plot(label_loc, cluster_6, label='cluster 6') #less intrumental + acousticness = country \n",
    "plt.plot(label_loc, cluster_7, label='cluster 7') #acousticness + danceability + valence = Pop \n",
    "plt.plot(label_loc, cluster_8, label='cluster 8') #duration = sleep \n",
    "\n",
    "plt.title('clusters comparison', size=20)\n",
    "lines, labels = plt.thetagrids(np.degrees(label_loc), labels=categories)\n",
    "plt.legend()\n",
    "plt.show()\n"
   ]
  },
  {
   "cell_type": "code",
   "execution_count": null,
   "id": "13458a25",
   "metadata": {},
   "outputs": [],
   "source": [
    "#output the final csv for making the web application\n",
    "#add a category column for our songs\n",
    "dic = {\n",
    "       0:'Workout',\n",
    "       1:'Party',\n",
    "       2:'Party',\n",
    "       3:'Rap',\n",
    "       4:'Folk&Acoustic',\n",
    "       5:'Country',\n",
    "       6:'Pop',\n",
    "       7:'Sleep'\n",
    "       }\n",
    "\n",
    "data_with_category=data2.replace({\"Cluster\": dic})\n",
    "data_with_category.to_csv('categorized_spotify_songs2.csv')\n"
   ]
  }
 ],
 "metadata": {
  "kernelspec": {
   "display_name": "Python 3",
   "language": "python",
   "name": "python3"
  },
  "language_info": {
   "codemirror_mode": {
    "name": "ipython",
    "version": 3
   },
   "file_extension": ".py",
   "mimetype": "text/x-python",
   "name": "python",
   "nbconvert_exporter": "python",
   "pygments_lexer": "ipython3",
   "version": "3.8.8"
  },
  "toc": {
   "base_numbering": 1,
   "nav_menu": {},
   "number_sections": true,
   "sideBar": true,
   "skip_h1_title": false,
   "title_cell": "Table of Contents",
   "title_sidebar": "Contents",
   "toc_cell": false,
   "toc_position": {},
   "toc_section_display": true,
   "toc_window_display": false
  }
 },
 "nbformat": 4,
 "nbformat_minor": 5
}
